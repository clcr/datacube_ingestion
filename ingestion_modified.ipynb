{
 "cells": [
  {
   "cell_type": "code",
   "execution_count": 308,
   "metadata": {
    "collapsed": true
   },
   "outputs": [],
   "source": [
    "# coding=utf-8\n",
    "\"\"\"\n",
    "Prepare a Sentinel 2 L2A scene prepared with dc_preproc scripts for datacube indexing and ingestion.\n",
    "\n",
    "This script uses the MTD_MSIL1C.xml or S2A_USER_MTD_L2A_DS*.xml files.\n",
    "\n",
    "Created by Bruno Chatenoux (GRID-Geneva, the 22.11.2017)\n",
    "\n",
    "Modified by John Roberts (CLCR, Leicetser, 14.08.2018)\n",
    "\n",
    "To be run from datacube_env\n",
    "\"\"\"\n",
    "import click\n",
    "import logging\n",
    "from pathlib import Path\n",
    "import re\n",
    "import os\n",
    "from dateutil import parser\n",
    "import uuid\n",
    "import rasterio.warp\n",
    "from osgeo import osr\n",
    "import yaml\n",
    "import glob\n",
    "import rasterio\n",
    "\n",
    "\n",
    "def get_coords(geo_ref_points, spatial_ref):\n",
    "    spatial_ref = osr.SpatialReference(spatial_ref)\n",
    "    t = osr.CoordinateTransformation(spatial_ref, spatial_ref.CloneGeogCS())\n",
    "\n",
    "    def transform(p):\n",
    "        lon, lat, z = t.TransformPoint(p['x'], p['y'])\n",
    "        return {'lon': lon, 'lat': lat}\n",
    "    return {key: transform(p) for key, p in geo_ref_points.items()}\n",
    "\n",
    "def populate_coord(doc):\n",
    "    proj = doc['grid_spatial']['projection']\n",
    "    doc['extent']['coord'] = get_coords(proj['geo_ref_points'], proj['spatial_reference'])\n",
    "\n",
    "def get_projection(path):\n",
    "    with rasterio.open(str(path)) as img:\n",
    "        left, bottom, right, top = img.bounds\n",
    "        return {\n",
    "            'spatial_reference': str(str(getattr(img, 'crs_wkt', None) or img.crs.wkt)),\n",
    "            'geo_ref_points': {\n",
    "                'ul': {'x': left, 'y': top},\n",
    "                'ur': {'x': right, 'y': top},\n",
    "                'll': {'x': left, 'y': bottom},\n",
    "                'lr': {'x': right, 'y': bottom},\n",
    "            }\n",
    "        }\n",
    "\n",
    "def prep_dataset(fields, path):\n",
    "    images_list = []\n",
    "    image_glob = os.path.join(str(path), \"GRANULE\", '*', \"IMG_DATA\", \"R*\", \"*.tif\")\n",
    "    images_list =glob.glob(image_glob)\n",
    "    \n",
    "    meta_glob = os.path.join(str(path), \"DATASTRIP\", \"*\", \"MTD_DS.xml\")\n",
    "    metafile = glob.glob(meta_glob)[0]\n",
    "    \n",
    "    with open(metafile) as searchfile:\n",
    "        for line in searchfile:\n",
    "            if \"DATASTRIP_SENSING_START\" in line:\n",
    "                aos = parser.parse(re.findall(r'\\>(.*)\\<', line)[0])\n",
    "            if \"DATASTRIP_SENSING_STOP\" in line:\n",
    "                los = parser.parse(re.findall(r'\\>(.*)\\<', line)[0])\n",
    "            if \"PROCESSING_CENTER\" in line:\n",
    "                name = re.findall(r'\\>(.*)\\<', line)[0]\n",
    "            if \"UTC_DATE_TIME\" in line:\n",
    "                creation_dt = parser.parse(re.findall(r'\\>(.*)\\<', line)[0])\n",
    "\n",
    "    center_dt = aos + (los-aos)/2\n",
    "\n",
    "    images = {im_path.replace('L2A_','') for im_path in images_list}\n",
    "    \n",
    "    #Get the actual projection of each image\n",
    "    projdict = {image : get_projection(image_path) for image, image_path in zip(images, images_list)}\n",
    "    print projdict\n",
    "    doc = {\n",
    "        'id': str(uuid.uuid4()),\n",
    "        'processing_level': fields[\"level\"],\n",
    "        'product_type': fields[\"type\"],\n",
    "        'creation_dt':  str(creation_dt.strftime('%Y-%m-%d %H:%M:%S')),\n",
    "        'platform': {'code': 'SENTINEL_2'},\n",
    "        'instrument': {'name': fields[\"instrument\"]},\n",
    "        'acquisition': {\n",
    "            'groundstation': {\n",
    "                'name': name.replace('_', ''),\n",
    "                'aos': str(aos.strftime('%Y-%m-%d %H:%M:%S')),\n",
    "                'los': str(los.strftime('%Y-%m-%d %H:%M:%S'))\n",
    "            }\n",
    "        },\n",
    "        'extent': {\n",
    "            'from_dt': str(aos.strftime('%Y-%m-%d %H:%M:%S')),\n",
    "            'to_dt': str(los.strftime('%Y-%m-%d %H:%M:%S')),\n",
    "            'center_dt': str(center_dt.strftime('%Y-%m-%d %H:%M:%S'))\n",
    "        },\n",
    "        'format': {'name': 'Geotiff'},\n",
    "        'grid_spatial': {\n",
    "            'projection': projdict   \n",
    "        },\n",
    "        'image': {\n",
    "            'tile': fields[\"tile\"],\n",
    "            'bands': images\n",
    "        },\n",
    "       \n",
    "        'lineage': {'source_datasets': {}}\n",
    "    }\n",
    "    \n",
    "    populate_coord(doc)\n",
    "    return doc\n",
    "\n",
    "def prepare_datasets(nbar_path):\n",
    "    # Old; S2A_MSIL1C_20160717T104026_N0204_R008_T32TLS_20160718T060439\n",
    "    # New; S2A_MSIL2A_20170901T152641_N0205_R025_T18NWG_20170901T153206.SAFE\n",
    "    match = re.match((r\"(?P<sensor>S2A|S2B)_MSIL2A_\"\n",
    "                       r\"(?P<productyear>[0-9]{4})\"\n",
    "                       r\"(?P<productmonth>[0-9]{2})\"\n",
    "                       r\"(?P<productday>[0-9]{2})T\"\n",
    "                       r\"(?P<producthour>[0-9]{2})\"\n",
    "                       r\"(?P<productminute>[0-9]{2})\"\n",
    "                       r\"(?P<productsecond>[0-9]{2})_N\"\n",
    "                       r\"(?P<baselinenumber>[0-9]{4})_R\"\n",
    "                       r\"(?P<relativeorbit>[0-9]{3})_T\"\n",
    "                       r\"(?P<tile>[A-Z0-9]{5})_\"), nbar_path.stem)\n",
    "    fields = match.groupdict()\n",
    "\n",
    "    fields.update({'level': 'L2A',\n",
    "        'type': 'dc_preproc',\n",
    "        'instrument': 'MSI',\n",
    "        'creation_dt': '%s-%s-%s 00:00:00' % (fields['productyear'], fields['productmonth'], fields['productday'])})\n",
    "\n",
    "    nbar = prep_dataset(fields, nbar_path)\n",
    "    return (nbar, nbar_path)\n",
    "\n",
    "\n"
   ]
  },
  {
   "cell_type": "code",
   "execution_count": 309,
   "metadata": {
    "collapsed": true
   },
   "outputs": [],
   "source": [
    "\n",
    "def test_main(datasets):\n",
    "    \"\"\"Takes a list of SAFE files and produces a yaml for each\"\"\"\n",
    "    logging.basicConfig(format='%(asctime)s %(levelname)s %(message)s', level=logging.ERROR)\n",
    "    print(\"Entering program\")\n",
    "    for dataset in datasets:\n",
    "        path = Path(dataset)\n",
    "        print(\"Processing\", path)\n",
    "        logging.info(\"Processing %s\", path)\n",
    "        documents = prepare_datasets(path)\n",
    "        print(\"completed preparing dataset, about to write output\")\n",
    "        dataset, folder = documents\n",
    "        yaml_path = str(folder.joinpath('agdc-metadata.yaml'))\n",
    "        logging.info(\"Writing %s\", yaml_path)\n",
    "        with open(yaml_path, 'w') as stream:\n",
    "            yaml.dump(dataset, stream)\n",
    "\n"
   ]
  },
  {
   "cell_type": "code",
   "execution_count": 310,
   "metadata": {},
   "outputs": [
    {
     "name": "stdout",
     "output_type": "stream",
     "text": [
      "Entering program\n",
      "('Processing', PosixPath('/home/cubo/john_r_s2_ingestion/S2A_MSIL2A_20170901T152641_N0205_R025_T18NWG_20170901T153206.SAFE'))\n",
      "{'/home/cubo/john_r_s2_ingestion/S2A_MSI20170901T152641_N0205_R025_T18NWG_20170901T153206.SAFE/GRANULE/T18NWG_A011462_20170901T153206/IMG_DATA/R20m/T18NWG_20170901T152641_WVP_20m.tif': {'geo_ref_points': {'ul': {'y': 200010.0, 'x': 500010.0}, 'll': {'y': 90210.0, 'x': 500010.0}, 'lr': {'y': 90210.0, 'x': 609810.0}, 'ur': {'y': 200010.0, 'x': 609810.0}}, 'spatial_reference': 'PROJCS[\"WGS 84 / UTM zone 18N\",GEOGCS[\"WGS 84\",DATUM[\"WGS_1984\",SPHEROID[\"WGS 84\",6378137,298.257223563,AUTHORITY[\"EPSG\",\"7030\"]],AUTHORITY[\"EPSG\",\"6326\"]],PRIMEM[\"Greenwich\",0,AUTHORITY[\"EPSG\",\"8901\"]],UNIT[\"degree\",0.0174532925199433,AUTHORITY[\"EPSG\",\"9122\"]],AUTHORITY[\"EPSG\",\"4326\"]],PROJECTION[\"Transverse_Mercator\"],PARAMETER[\"latitude_of_origin\",0],PARAMETER[\"central_meridian\",-75],PARAMETER[\"scale_factor\",0.9996],PARAMETER[\"false_easting\",500000],PARAMETER[\"false_northing\",0],UNIT[\"metre\",1,AUTHORITY[\"EPSG\",\"9001\"]],AXIS[\"Easting\",EAST],AXIS[\"Northing\",NORTH],AUTHORITY[\"EPSG\",\"32618\"]]'}, '/home/cubo/john_r_s2_ingestion/S2A_MSI20170901T152641_N0205_R025_T18NWG_20170901T153206.SAFE/GRANULE/T18NWG_A011462_20170901T153206/IMG_DATA/R10m/T18NWG_20170901T152641_B08_10m.tif': {'geo_ref_points': {'ul': {'y': 200010.0, 'x': 500010.0}, 'll': {'y': 90210.0, 'x': 500010.0}, 'lr': {'y': 90210.0, 'x': 609810.0}, 'ur': {'y': 200010.0, 'x': 609810.0}}, 'spatial_reference': 'PROJCS[\"WGS 84 / UTM zone 18N\",GEOGCS[\"WGS 84\",DATUM[\"WGS_1984\",SPHEROID[\"WGS 84\",6378137,298.257223563,AUTHORITY[\"EPSG\",\"7030\"]],AUTHORITY[\"EPSG\",\"6326\"]],PRIMEM[\"Greenwich\",0,AUTHORITY[\"EPSG\",\"8901\"]],UNIT[\"degree\",0.0174532925199433,AUTHORITY[\"EPSG\",\"9122\"]],AUTHORITY[\"EPSG\",\"4326\"]],PROJECTION[\"Transverse_Mercator\"],PARAMETER[\"latitude_of_origin\",0],PARAMETER[\"central_meridian\",-75],PARAMETER[\"scale_factor\",0.9996],PARAMETER[\"false_easting\",500000],PARAMETER[\"false_northing\",0],UNIT[\"metre\",1,AUTHORITY[\"EPSG\",\"9001\"]],AXIS[\"Easting\",EAST],AXIS[\"Northing\",NORTH],AUTHORITY[\"EPSG\",\"32618\"]]'}, '/home/cubo/john_r_s2_ingestion/S2A_MSI20170901T152641_N0205_R025_T18NWG_20170901T153206.SAFE/GRANULE/T18NWG_A011462_20170901T153206/IMG_DATA/R20m/T18NWG_20170901T152641_TCI_20m.tif': {'geo_ref_points': {'ul': {'y': 200010.0, 'x': 500010.0}, 'll': {'y': 90210.0, 'x': 500010.0}, 'lr': {'y': 90210.0, 'x': 609810.0}, 'ur': {'y': 200010.0, 'x': 609810.0}}, 'spatial_reference': 'PROJCS[\"WGS 84 / UTM zone 18N\",GEOGCS[\"WGS 84\",DATUM[\"WGS_1984\",SPHEROID[\"WGS 84\",6378137,298.257223563,AUTHORITY[\"EPSG\",\"7030\"]],AUTHORITY[\"EPSG\",\"6326\"]],PRIMEM[\"Greenwich\",0,AUTHORITY[\"EPSG\",\"8901\"]],UNIT[\"degree\",0.0174532925199433,AUTHORITY[\"EPSG\",\"9122\"]],AUTHORITY[\"EPSG\",\"4326\"]],PROJECTION[\"Transverse_Mercator\"],PARAMETER[\"latitude_of_origin\",0],PARAMETER[\"central_meridian\",-75],PARAMETER[\"scale_factor\",0.9996],PARAMETER[\"false_easting\",500000],PARAMETER[\"false_northing\",0],UNIT[\"metre\",1,AUTHORITY[\"EPSG\",\"9001\"]],AXIS[\"Easting\",EAST],AXIS[\"Northing\",NORTH],AUTHORITY[\"EPSG\",\"32618\"]]'}, '/home/cubo/john_r_s2_ingestion/S2A_MSI20170901T152641_N0205_R025_T18NWG_20170901T153206.SAFE/GRANULE/T18NWG_A011462_20170901T153206/IMG_DATA/R20m/T18NWG_20170901T152641_B05_20m.tif': {'geo_ref_points': {'ul': {'y': 200010.0, 'x': 500010.0}, 'll': {'y': 90210.0, 'x': 500010.0}, 'lr': {'y': 90210.0, 'x': 609810.0}, 'ur': {'y': 200010.0, 'x': 609810.0}}, 'spatial_reference': 'PROJCS[\"WGS 84 / UTM zone 18N\",GEOGCS[\"WGS 84\",DATUM[\"WGS_1984\",SPHEROID[\"WGS 84\",6378137,298.257223563,AUTHORITY[\"EPSG\",\"7030\"]],AUTHORITY[\"EPSG\",\"6326\"]],PRIMEM[\"Greenwich\",0,AUTHORITY[\"EPSG\",\"8901\"]],UNIT[\"degree\",0.0174532925199433,AUTHORITY[\"EPSG\",\"9122\"]],AUTHORITY[\"EPSG\",\"4326\"]],PROJECTION[\"Transverse_Mercator\"],PARAMETER[\"latitude_of_origin\",0],PARAMETER[\"central_meridian\",-75],PARAMETER[\"scale_factor\",0.9996],PARAMETER[\"false_easting\",500000],PARAMETER[\"false_northing\",0],UNIT[\"metre\",1,AUTHORITY[\"EPSG\",\"9001\"]],AXIS[\"Easting\",EAST],AXIS[\"Northing\",NORTH],AUTHORITY[\"EPSG\",\"32618\"]]'}, '/home/cubo/john_r_s2_ingestion/S2A_MSI20170901T152641_N0205_R025_T18NWG_20170901T153206.SAFE/GRANULE/T18NWG_A011462_20170901T153206/IMG_DATA/R20m/T18NWG_20170901T152641_B8A_20m.tif': {'geo_ref_points': {'ul': {'y': 200010.0, 'x': 500010.0}, 'll': {'y': 90210.0, 'x': 500010.0}, 'lr': {'y': 90210.0, 'x': 609810.0}, 'ur': {'y': 200010.0, 'x': 609810.0}}, 'spatial_reference': 'PROJCS[\"WGS 84 / UTM zone 18N\",GEOGCS[\"WGS 84\",DATUM[\"WGS_1984\",SPHEROID[\"WGS 84\",6378137,298.257223563,AUTHORITY[\"EPSG\",\"7030\"]],AUTHORITY[\"EPSG\",\"6326\"]],PRIMEM[\"Greenwich\",0,AUTHORITY[\"EPSG\",\"8901\"]],UNIT[\"degree\",0.0174532925199433,AUTHORITY[\"EPSG\",\"9122\"]],AUTHORITY[\"EPSG\",\"4326\"]],PROJECTION[\"Transverse_Mercator\"],PARAMETER[\"latitude_of_origin\",0],PARAMETER[\"central_meridian\",-75],PARAMETER[\"scale_factor\",0.9996],PARAMETER[\"false_easting\",500000],PARAMETER[\"false_northing\",0],UNIT[\"metre\",1,AUTHORITY[\"EPSG\",\"9001\"]],AXIS[\"Easting\",EAST],AXIS[\"Northing\",NORTH],AUTHORITY[\"EPSG\",\"32618\"]]'}, '/home/cubo/john_r_s2_ingestion/S2A_MSI20170901T152641_N0205_R025_T18NWG_20170901T153206.SAFE/GRANULE/T18NWG_A011462_20170901T153206/IMG_DATA/R60m/T18NWG_20170901T152641_SCL_60m.tif': {'geo_ref_points': {'ul': {'y': 200010.0, 'x': 500010.0}, 'll': {'y': 90210.0, 'x': 500010.0}, 'lr': {'y': 90210.0, 'x': 609810.0}, 'ur': {'y': 200010.0, 'x': 609810.0}}, 'spatial_reference': 'PROJCS[\"WGS 84 / UTM zone 18N\",GEOGCS[\"WGS 84\",DATUM[\"WGS_1984\",SPHEROID[\"WGS 84\",6378137,298.257223563,AUTHORITY[\"EPSG\",\"7030\"]],AUTHORITY[\"EPSG\",\"6326\"]],PRIMEM[\"Greenwich\",0,AUTHORITY[\"EPSG\",\"8901\"]],UNIT[\"degree\",0.0174532925199433,AUTHORITY[\"EPSG\",\"9122\"]],AUTHORITY[\"EPSG\",\"4326\"]],PROJECTION[\"Transverse_Mercator\"],PARAMETER[\"latitude_of_origin\",0],PARAMETER[\"central_meridian\",-75],PARAMETER[\"scale_factor\",0.9996],PARAMETER[\"false_easting\",500000],PARAMETER[\"false_northing\",0],UNIT[\"metre\",1,AUTHORITY[\"EPSG\",\"9001\"]],AXIS[\"Easting\",EAST],AXIS[\"Northing\",NORTH],AUTHORITY[\"EPSG\",\"32618\"]]'}, '/home/cubo/john_r_s2_ingestion/S2A_MSI20170901T152641_N0205_R025_T18NWG_20170901T153206.SAFE/GRANULE/T18NWG_A011462_20170901T153206/IMG_DATA/R20m/T18NWG_20170901T152641_B06_20m.tif': {'geo_ref_points': {'ul': {'y': 200035.0, 'x': 499985.0}, 'll': {'y': 90235.0, 'x': 499985.0}, 'lr': {'y': 90235.0, 'x': 609785.0}, 'ur': {'y': 200035.0, 'x': 609785.0}}, 'spatial_reference': 'PROJCS[\"WGS 84 / UTM zone 18N\",GEOGCS[\"WGS 84\",DATUM[\"WGS_1984\",SPHEROID[\"WGS 84\",6378137,298.257223563,AUTHORITY[\"EPSG\",\"7030\"]],AUTHORITY[\"EPSG\",\"6326\"]],PRIMEM[\"Greenwich\",0,AUTHORITY[\"EPSG\",\"8901\"]],UNIT[\"degree\",0.0174532925199433,AUTHORITY[\"EPSG\",\"9122\"]],AUTHORITY[\"EPSG\",\"4326\"]],PROJECTION[\"Transverse_Mercator\"],PARAMETER[\"latitude_of_origin\",0],PARAMETER[\"central_meridian\",-75],PARAMETER[\"scale_factor\",0.9996],PARAMETER[\"false_easting\",500000],PARAMETER[\"false_northing\",0],UNIT[\"metre\",1,AUTHORITY[\"EPSG\",\"9001\"]],AXIS[\"Easting\",EAST],AXIS[\"Northing\",NORTH],AUTHORITY[\"EPSG\",\"32618\"]]'}, '/home/cubo/john_r_s2_ingestion/S2A_MSI20170901T152641_N0205_R025_T18NWG_20170901T153206.SAFE/GRANULE/T18NWG_A011462_20170901T153206/IMG_DATA/R10m/T18NWG_20170901T152641_AOT_10m.tif': {'geo_ref_points': {'ul': {'y': 200035.0, 'x': 499985.0}, 'll': {'y': 90235.0, 'x': 499985.0}, 'lr': {'y': 90235.0, 'x': 609785.0}, 'ur': {'y': 200035.0, 'x': 609785.0}}, 'spatial_reference': 'PROJCS[\"WGS 84 / UTM zone 18N\",GEOGCS[\"WGS 84\",DATUM[\"WGS_1984\",SPHEROID[\"WGS 84\",6378137,298.257223563,AUTHORITY[\"EPSG\",\"7030\"]],AUTHORITY[\"EPSG\",\"6326\"]],PRIMEM[\"Greenwich\",0,AUTHORITY[\"EPSG\",\"8901\"]],UNIT[\"degree\",0.0174532925199433,AUTHORITY[\"EPSG\",\"9122\"]],AUTHORITY[\"EPSG\",\"4326\"]],PROJECTION[\"Transverse_Mercator\"],PARAMETER[\"latitude_of_origin\",0],PARAMETER[\"central_meridian\",-75],PARAMETER[\"scale_factor\",0.9996],PARAMETER[\"false_easting\",500000],PARAMETER[\"false_northing\",0],UNIT[\"metre\",1,AUTHORITY[\"EPSG\",\"9001\"]],AXIS[\"Easting\",EAST],AXIS[\"Northing\",NORTH],AUTHORITY[\"EPSG\",\"32618\"]]'}, '/home/cubo/john_r_s2_ingestion/S2A_MSI20170901T152641_N0205_R025_T18NWG_20170901T153206.SAFE/GRANULE/T18NWG_A011462_20170901T153206/IMG_DATA/R10m/T18NWG_20170901T152641_WVP_10m.tif': {'geo_ref_points': {'ul': {'y': 200035.0, 'x': 499985.0}, 'll': {'y': 90235.0, 'x': 499985.0}, 'lr': {'y': 90235.0, 'x': 609785.0}, 'ur': {'y': 200035.0, 'x': 609785.0}}, 'spatial_reference': 'PROJCS[\"WGS 84 / UTM zone 18N\",GEOGCS[\"WGS 84\",DATUM[\"WGS_1984\",SPHEROID[\"WGS 84\",6378137,298.257223563,AUTHORITY[\"EPSG\",\"7030\"]],AUTHORITY[\"EPSG\",\"6326\"]],PRIMEM[\"Greenwich\",0,AUTHORITY[\"EPSG\",\"8901\"]],UNIT[\"degree\",0.0174532925199433,AUTHORITY[\"EPSG\",\"9122\"]],AUTHORITY[\"EPSG\",\"4326\"]],PROJECTION[\"Transverse_Mercator\"],PARAMETER[\"latitude_of_origin\",0],PARAMETER[\"central_meridian\",-75],PARAMETER[\"scale_factor\",0.9996],PARAMETER[\"false_easting\",500000],PARAMETER[\"false_northing\",0],UNIT[\"metre\",1,AUTHORITY[\"EPSG\",\"9001\"]],AXIS[\"Easting\",EAST],AXIS[\"Northing\",NORTH],AUTHORITY[\"EPSG\",\"32618\"]]'}, '/home/cubo/john_r_s2_ingestion/S2A_MSI20170901T152641_N0205_R025_T18NWG_20170901T153206.SAFE/GRANULE/T18NWG_A011462_20170901T153206/IMG_DATA/R10m/T18NWG_20170901T152641_TCI_10m.tif': {'geo_ref_points': {'ul': {'y': 200035.0, 'x': 499985.0}, 'll': {'y': 90235.0, 'x': 499985.0}, 'lr': {'y': 90235.0, 'x': 609785.0}, 'ur': {'y': 200035.0, 'x': 609785.0}}, 'spatial_reference': 'PROJCS[\"WGS 84 / UTM zone 18N\",GEOGCS[\"WGS 84\",DATUM[\"WGS_1984\",SPHEROID[\"WGS 84\",6378137,298.257223563,AUTHORITY[\"EPSG\",\"7030\"]],AUTHORITY[\"EPSG\",\"6326\"]],PRIMEM[\"Greenwich\",0,AUTHORITY[\"EPSG\",\"8901\"]],UNIT[\"degree\",0.0174532925199433,AUTHORITY[\"EPSG\",\"9122\"]],AUTHORITY[\"EPSG\",\"4326\"]],PROJECTION[\"Transverse_Mercator\"],PARAMETER[\"latitude_of_origin\",0],PARAMETER[\"central_meridian\",-75],PARAMETER[\"scale_factor\",0.9996],PARAMETER[\"false_easting\",500000],PARAMETER[\"false_northing\",0],UNIT[\"metre\",1,AUTHORITY[\"EPSG\",\"9001\"]],AXIS[\"Easting\",EAST],AXIS[\"Northing\",NORTH],AUTHORITY[\"EPSG\",\"32618\"]]'}, '/home/cubo/john_r_s2_ingestion/S2A_MSI20170901T152641_N0205_R025_T18NWG_20170901T153206.SAFE/GRANULE/T18NWG_A011462_20170901T153206/IMG_DATA/R20m/T18NWG_20170901T152641_SCL_20m.tif': {'geo_ref_points': {'ul': {'y': 200035.0, 'x': 499985.0}, 'll': {'y': 90235.0, 'x': 499985.0}, 'lr': {'y': 90235.0, 'x': 609785.0}, 'ur': {'y': 200035.0, 'x': 609785.0}}, 'spatial_reference': 'PROJCS[\"WGS 84 / UTM zone 18N\",GEOGCS[\"WGS 84\",DATUM[\"WGS_1984\",SPHEROID[\"WGS 84\",6378137,298.257223563,AUTHORITY[\"EPSG\",\"7030\"]],AUTHORITY[\"EPSG\",\"6326\"]],PRIMEM[\"Greenwich\",0,AUTHORITY[\"EPSG\",\"8901\"]],UNIT[\"degree\",0.0174532925199433,AUTHORITY[\"EPSG\",\"9122\"]],AUTHORITY[\"EPSG\",\"4326\"]],PROJECTION[\"Transverse_Mercator\"],PARAMETER[\"latitude_of_origin\",0],PARAMETER[\"central_meridian\",-75],PARAMETER[\"scale_factor\",0.9996],PARAMETER[\"false_easting\",500000],PARAMETER[\"false_northing\",0],UNIT[\"metre\",1,AUTHORITY[\"EPSG\",\"9001\"]],AXIS[\"Easting\",EAST],AXIS[\"Northing\",NORTH],AUTHORITY[\"EPSG\",\"32618\"]]'}, '/home/cubo/john_r_s2_ingestion/S2A_MSI20170901T152641_N0205_R025_T18NWG_20170901T153206.SAFE/GRANULE/T18NWG_A011462_20170901T153206/IMG_DATA/R60m/T18NWG_20170901T152641_TCI_60m.tif': {'geo_ref_points': {'ul': {'y': 200035.0, 'x': 499985.0}, 'll': {'y': 90235.0, 'x': 499985.0}, 'lr': {'y': 90235.0, 'x': 609785.0}, 'ur': {'y': 200035.0, 'x': 609785.0}}, 'spatial_reference': 'PROJCS[\"WGS 84 / UTM zone 18N\",GEOGCS[\"WGS 84\",DATUM[\"WGS_1984\",SPHEROID[\"WGS 84\",6378137,298.257223563,AUTHORITY[\"EPSG\",\"7030\"]],AUTHORITY[\"EPSG\",\"6326\"]],PRIMEM[\"Greenwich\",0,AUTHORITY[\"EPSG\",\"8901\"]],UNIT[\"degree\",0.0174532925199433,AUTHORITY[\"EPSG\",\"9122\"]],AUTHORITY[\"EPSG\",\"4326\"]],PROJECTION[\"Transverse_Mercator\"],PARAMETER[\"latitude_of_origin\",0],PARAMETER[\"central_meridian\",-75],PARAMETER[\"scale_factor\",0.9996],PARAMETER[\"false_easting\",500000],PARAMETER[\"false_northing\",0],UNIT[\"metre\",1,AUTHORITY[\"EPSG\",\"9001\"]],AXIS[\"Easting\",EAST],AXIS[\"Northing\",NORTH],AUTHORITY[\"EPSG\",\"32618\"]]'}, '/home/cubo/john_r_s2_ingestion/S2A_MSI20170901T152641_N0205_R025_T18NWG_20170901T153206.SAFE/GRANULE/T18NWG_A011462_20170901T153206/IMG_DATA/R20m/T18NWG_20170901T152641_B12_20m.tif': {'geo_ref_points': {'ul': {'y': 200035.0, 'x': 499985.0}, 'll': {'y': 90235.0, 'x': 499985.0}, 'lr': {'y': 90235.0, 'x': 609785.0}, 'ur': {'y': 200035.0, 'x': 609785.0}}, 'spatial_reference': 'PROJCS[\"WGS 84 / UTM zone 18N\",GEOGCS[\"WGS 84\",DATUM[\"WGS_1984\",SPHEROID[\"WGS 84\",6378137,298.257223563,AUTHORITY[\"EPSG\",\"7030\"]],AUTHORITY[\"EPSG\",\"6326\"]],PRIMEM[\"Greenwich\",0,AUTHORITY[\"EPSG\",\"8901\"]],UNIT[\"degree\",0.0174532925199433,AUTHORITY[\"EPSG\",\"9122\"]],AUTHORITY[\"EPSG\",\"4326\"]],PROJECTION[\"Transverse_Mercator\"],PARAMETER[\"latitude_of_origin\",0],PARAMETER[\"central_meridian\",-75],PARAMETER[\"scale_factor\",0.9996],PARAMETER[\"false_easting\",500000],PARAMETER[\"false_northing\",0],UNIT[\"metre\",1,AUTHORITY[\"EPSG\",\"9001\"]],AXIS[\"Easting\",EAST],AXIS[\"Northing\",NORTH],AUTHORITY[\"EPSG\",\"32618\"]]'}, '/home/cubo/john_r_s2_ingestion/S2A_MSI20170901T152641_N0205_R025_T18NWG_20170901T153206.SAFE/GRANULE/T18NWG_A011462_20170901T153206/IMG_DATA/R60m/T18NWG_20170901T152641_AOT_60m.tif': {'geo_ref_points': {'ul': {'y': 200030.0, 'x': 499990.0}, 'll': {'y': 90230.0, 'x': 499990.0}, 'lr': {'y': 90230.0, 'x': 609790.0}, 'ur': {'y': 200030.0, 'x': 609790.0}}, 'spatial_reference': 'PROJCS[\"WGS 84 / UTM zone 18N\",GEOGCS[\"WGS 84\",DATUM[\"WGS_1984\",SPHEROID[\"WGS 84\",6378137,298.257223563,AUTHORITY[\"EPSG\",\"7030\"]],AUTHORITY[\"EPSG\",\"6326\"]],PRIMEM[\"Greenwich\",0,AUTHORITY[\"EPSG\",\"8901\"]],UNIT[\"degree\",0.0174532925199433,AUTHORITY[\"EPSG\",\"9122\"]],AUTHORITY[\"EPSG\",\"4326\"]],PROJECTION[\"Transverse_Mercator\"],PARAMETER[\"latitude_of_origin\",0],PARAMETER[\"central_meridian\",-75],PARAMETER[\"scale_factor\",0.9996],PARAMETER[\"false_easting\",500000],PARAMETER[\"false_northing\",0],UNIT[\"metre\",1,AUTHORITY[\"EPSG\",\"9001\"]],AXIS[\"Easting\",EAST],AXIS[\"Northing\",NORTH],AUTHORITY[\"EPSG\",\"32618\"]]'}, '/home/cubo/john_r_s2_ingestion/S2A_MSI20170901T152641_N0205_R025_T18NWG_20170901T153206.SAFE/GRANULE/T18NWG_A011462_20170901T153206/IMG_DATA/R20m/T18NWG_20170901T152641_AOT_20m.tif': {'geo_ref_points': {'ul': {'y': 200030.0, 'x': 499990.0}, 'll': {'y': 90230.0, 'x': 499990.0}, 'lr': {'y': 90230.0, 'x': 609790.0}, 'ur': {'y': 200030.0, 'x': 609790.0}}, 'spatial_reference': 'PROJCS[\"WGS 84 / UTM zone 18N\",GEOGCS[\"WGS 84\",DATUM[\"WGS_1984\",SPHEROID[\"WGS 84\",6378137,298.257223563,AUTHORITY[\"EPSG\",\"7030\"]],AUTHORITY[\"EPSG\",\"6326\"]],PRIMEM[\"Greenwich\",0,AUTHORITY[\"EPSG\",\"8901\"]],UNIT[\"degree\",0.0174532925199433,AUTHORITY[\"EPSG\",\"9122\"]],AUTHORITY[\"EPSG\",\"4326\"]],PROJECTION[\"Transverse_Mercator\"],PARAMETER[\"latitude_of_origin\",0],PARAMETER[\"central_meridian\",-75],PARAMETER[\"scale_factor\",0.9996],PARAMETER[\"false_easting\",500000],PARAMETER[\"false_northing\",0],UNIT[\"metre\",1,AUTHORITY[\"EPSG\",\"9001\"]],AXIS[\"Easting\",EAST],AXIS[\"Northing\",NORTH],AUTHORITY[\"EPSG\",\"32618\"]]'}, '/home/cubo/john_r_s2_ingestion/S2A_MSI20170901T152641_N0205_R025_T18NWG_20170901T153206.SAFE/GRANULE/T18NWG_A011462_20170901T153206/IMG_DATA/R10m/T18NWG_20170901T152641_B03_10m.tif': {'geo_ref_points': {'ul': {'y': 200030.0, 'x': 499990.0}, 'll': {'y': 90230.0, 'x': 499990.0}, 'lr': {'y': 90230.0, 'x': 609790.0}, 'ur': {'y': 200030.0, 'x': 609790.0}}, 'spatial_reference': 'PROJCS[\"WGS 84 / UTM zone 18N\",GEOGCS[\"WGS 84\",DATUM[\"WGS_1984\",SPHEROID[\"WGS 84\",6378137,298.257223563,AUTHORITY[\"EPSG\",\"7030\"]],AUTHORITY[\"EPSG\",\"6326\"]],PRIMEM[\"Greenwich\",0,AUTHORITY[\"EPSG\",\"8901\"]],UNIT[\"degree\",0.0174532925199433,AUTHORITY[\"EPSG\",\"9122\"]],AUTHORITY[\"EPSG\",\"4326\"]],PROJECTION[\"Transverse_Mercator\"],PARAMETER[\"latitude_of_origin\",0],PARAMETER[\"central_meridian\",-75],PARAMETER[\"scale_factor\",0.9996],PARAMETER[\"false_easting\",500000],PARAMETER[\"false_northing\",0],UNIT[\"metre\",1,AUTHORITY[\"EPSG\",\"9001\"]],AXIS[\"Easting\",EAST],AXIS[\"Northing\",NORTH],AUTHORITY[\"EPSG\",\"32618\"]]'}, '/home/cubo/john_r_s2_ingestion/S2A_MSI20170901T152641_N0205_R025_T18NWG_20170901T153206.SAFE/GRANULE/T18NWG_A011462_20170901T153206/IMG_DATA/R20m/T18NWG_20170901T152641_B11_20m.tif': {'geo_ref_points': {'ul': {'y': 200030.0, 'x': 499990.0}, 'll': {'y': 90230.0, 'x': 499990.0}, 'lr': {'y': 90230.0, 'x': 609790.0}, 'ur': {'y': 200030.0, 'x': 609790.0}}, 'spatial_reference': 'PROJCS[\"WGS 84 / UTM zone 18N\",GEOGCS[\"WGS 84\",DATUM[\"WGS_1984\",SPHEROID[\"WGS 84\",6378137,298.257223563,AUTHORITY[\"EPSG\",\"7030\"]],AUTHORITY[\"EPSG\",\"6326\"]],PRIMEM[\"Greenwich\",0,AUTHORITY[\"EPSG\",\"8901\"]],UNIT[\"degree\",0.0174532925199433,AUTHORITY[\"EPSG\",\"9122\"]],AUTHORITY[\"EPSG\",\"4326\"]],PROJECTION[\"Transverse_Mercator\"],PARAMETER[\"latitude_of_origin\",0],PARAMETER[\"central_meridian\",-75],PARAMETER[\"scale_factor\",0.9996],PARAMETER[\"false_easting\",500000],PARAMETER[\"false_northing\",0],UNIT[\"metre\",1,AUTHORITY[\"EPSG\",\"9001\"]],AXIS[\"Easting\",EAST],AXIS[\"Northing\",NORTH],AUTHORITY[\"EPSG\",\"32618\"]]'}, '/home/cubo/john_r_s2_ingestion/S2A_MSI20170901T152641_N0205_R025_T18NWG_20170901T153206.SAFE/GRANULE/T18NWG_A011462_20170901T153206/IMG_DATA/R20m/T18NWG_20170901T152641_B07_20m.tif': {'geo_ref_points': {'ul': {'y': 200030.0, 'x': 499990.0}, 'll': {'y': 90230.0, 'x': 499990.0}, 'lr': {'y': 90230.0, 'x': 609790.0}, 'ur': {'y': 200030.0, 'x': 609790.0}}, 'spatial_reference': 'PROJCS[\"WGS 84 / UTM zone 18N\",GEOGCS[\"WGS 84\",DATUM[\"WGS_1984\",SPHEROID[\"WGS 84\",6378137,298.257223563,AUTHORITY[\"EPSG\",\"7030\"]],AUTHORITY[\"EPSG\",\"6326\"]],PRIMEM[\"Greenwich\",0,AUTHORITY[\"EPSG\",\"8901\"]],UNIT[\"degree\",0.0174532925199433,AUTHORITY[\"EPSG\",\"9122\"]],AUTHORITY[\"EPSG\",\"4326\"]],PROJECTION[\"Transverse_Mercator\"],PARAMETER[\"latitude_of_origin\",0],PARAMETER[\"central_meridian\",-75],PARAMETER[\"scale_factor\",0.9996],PARAMETER[\"false_easting\",500000],PARAMETER[\"false_northing\",0],UNIT[\"metre\",1,AUTHORITY[\"EPSG\",\"9001\"]],AXIS[\"Easting\",EAST],AXIS[\"Northing\",NORTH],AUTHORITY[\"EPSG\",\"32618\"]]'}, '/home/cubo/john_r_s2_ingestion/S2A_MSI20170901T152641_N0205_R025_T18NWG_20170901T153206.SAFE/GRANULE/T18NWG_A011462_20170901T153206/IMG_DATA/R60m/T18NWG_20170901T152641_B01_60m.tif': {'geo_ref_points': {'ul': {'y': 200030.0, 'x': 499990.0}, 'll': {'y': 90230.0, 'x': 499990.0}, 'lr': {'y': 90230.0, 'x': 609790.0}, 'ur': {'y': 200030.0, 'x': 609790.0}}, 'spatial_reference': 'PROJCS[\"WGS 84 / UTM zone 18N\",GEOGCS[\"WGS 84\",DATUM[\"WGS_1984\",SPHEROID[\"WGS 84\",6378137,298.257223563,AUTHORITY[\"EPSG\",\"7030\"]],AUTHORITY[\"EPSG\",\"6326\"]],PRIMEM[\"Greenwich\",0,AUTHORITY[\"EPSG\",\"8901\"]],UNIT[\"degree\",0.0174532925199433,AUTHORITY[\"EPSG\",\"9122\"]],AUTHORITY[\"EPSG\",\"4326\"]],PROJECTION[\"Transverse_Mercator\"],PARAMETER[\"latitude_of_origin\",0],PARAMETER[\"central_meridian\",-75],PARAMETER[\"scale_factor\",0.9996],PARAMETER[\"false_easting\",500000],PARAMETER[\"false_northing\",0],UNIT[\"metre\",1,AUTHORITY[\"EPSG\",\"9001\"]],AXIS[\"Easting\",EAST],AXIS[\"Northing\",NORTH],AUTHORITY[\"EPSG\",\"32618\"]]'}, '/home/cubo/john_r_s2_ingestion/S2A_MSI20170901T152641_N0205_R025_T18NWG_20170901T153206.SAFE/GRANULE/T18NWG_A011462_20170901T153206/IMG_DATA/R10m/T18NWG_20170901T152641_B04_10m.tif': {'geo_ref_points': {'ul': {'y': 200030.0, 'x': 499990.0}, 'll': {'y': 90230.0, 'x': 499990.0}, 'lr': {'y': 90230.0, 'x': 609790.0}, 'ur': {'y': 200030.0, 'x': 609790.0}}, 'spatial_reference': 'PROJCS[\"WGS 84 / UTM zone 18N\",GEOGCS[\"WGS 84\",DATUM[\"WGS_1984\",SPHEROID[\"WGS 84\",6378137,298.257223563,AUTHORITY[\"EPSG\",\"7030\"]],AUTHORITY[\"EPSG\",\"6326\"]],PRIMEM[\"Greenwich\",0,AUTHORITY[\"EPSG\",\"8901\"]],UNIT[\"degree\",0.0174532925199433,AUTHORITY[\"EPSG\",\"9122\"]],AUTHORITY[\"EPSG\",\"4326\"]],PROJECTION[\"Transverse_Mercator\"],PARAMETER[\"latitude_of_origin\",0],PARAMETER[\"central_meridian\",-75],PARAMETER[\"scale_factor\",0.9996],PARAMETER[\"false_easting\",500000],PARAMETER[\"false_northing\",0],UNIT[\"metre\",1,AUTHORITY[\"EPSG\",\"9001\"]],AXIS[\"Easting\",EAST],AXIS[\"Northing\",NORTH],AUTHORITY[\"EPSG\",\"32618\"]]'}, '/home/cubo/john_r_s2_ingestion/S2A_MSI20170901T152641_N0205_R025_T18NWG_20170901T153206.SAFE/GRANULE/T18NWG_A011462_20170901T153206/IMG_DATA/R60m/T18NWG_20170901T152641_B09_60m.tif': {'geo_ref_points': {'ul': {'y': 200030.0, 'x': 499990.0}, 'll': {'y': 90230.0, 'x': 499990.0}, 'lr': {'y': 90230.0, 'x': 609790.0}, 'ur': {'y': 200030.0, 'x': 609790.0}}, 'spatial_reference': 'PROJCS[\"WGS 84 / UTM zone 18N\",GEOGCS[\"WGS 84\",DATUM[\"WGS_1984\",SPHEROID[\"WGS 84\",6378137,298.257223563,AUTHORITY[\"EPSG\",\"7030\"]],AUTHORITY[\"EPSG\",\"6326\"]],PRIMEM[\"Greenwich\",0,AUTHORITY[\"EPSG\",\"8901\"]],UNIT[\"degree\",0.0174532925199433,AUTHORITY[\"EPSG\",\"9122\"]],AUTHORITY[\"EPSG\",\"4326\"]],PROJECTION[\"Transverse_Mercator\"],PARAMETER[\"latitude_of_origin\",0],PARAMETER[\"central_meridian\",-75],PARAMETER[\"scale_factor\",0.9996],PARAMETER[\"false_easting\",500000],PARAMETER[\"false_northing\",0],UNIT[\"metre\",1,AUTHORITY[\"EPSG\",\"9001\"]],AXIS[\"Easting\",EAST],AXIS[\"Northing\",NORTH],AUTHORITY[\"EPSG\",\"32618\"]]'}, '/home/cubo/john_r_s2_ingestion/S2A_MSI20170901T152641_N0205_R025_T18NWG_20170901T153206.SAFE/GRANULE/T18NWG_A011462_20170901T153206/IMG_DATA/R10m/T18NWG_20170901T152641_B02_10m.tif': {'geo_ref_points': {'ul': {'y': 200030.0, 'x': 499990.0}, 'll': {'y': 90230.0, 'x': 499990.0}, 'lr': {'y': 90230.0, 'x': 609790.0}, 'ur': {'y': 200030.0, 'x': 609790.0}}, 'spatial_reference': 'PROJCS[\"WGS 84 / UTM zone 18N\",GEOGCS[\"WGS 84\",DATUM[\"WGS_1984\",SPHEROID[\"WGS 84\",6378137,298.257223563,AUTHORITY[\"EPSG\",\"7030\"]],AUTHORITY[\"EPSG\",\"6326\"]],PRIMEM[\"Greenwich\",0,AUTHORITY[\"EPSG\",\"8901\"]],UNIT[\"degree\",0.0174532925199433,AUTHORITY[\"EPSG\",\"9122\"]],AUTHORITY[\"EPSG\",\"4326\"]],PROJECTION[\"Transverse_Mercator\"],PARAMETER[\"latitude_of_origin\",0],PARAMETER[\"central_meridian\",-75],PARAMETER[\"scale_factor\",0.9996],PARAMETER[\"false_easting\",500000],PARAMETER[\"false_northing\",0],UNIT[\"metre\",1,AUTHORITY[\"EPSG\",\"9001\"]],AXIS[\"Easting\",EAST],AXIS[\"Northing\",NORTH],AUTHORITY[\"EPSG\",\"32618\"]]'}, '/home/cubo/john_r_s2_ingestion/S2A_MSI20170901T152641_N0205_R025_T18NWG_20170901T153206.SAFE/GRANULE/T18NWG_A011462_20170901T153206/IMG_DATA/R60m/T18NWG_20170901T152641_WVP_60m.tif': {'geo_ref_points': {'ul': {'y': 200030.0, 'x': 499990.0}, 'll': {'y': 90230.0, 'x': 499990.0}, 'lr': {'y': 90230.0, 'x': 609790.0}, 'ur': {'y': 200030.0, 'x': 609790.0}}, 'spatial_reference': 'PROJCS[\"WGS 84 / UTM zone 18N\",GEOGCS[\"WGS 84\",DATUM[\"WGS_1984\",SPHEROID[\"WGS 84\",6378137,298.257223563,AUTHORITY[\"EPSG\",\"7030\"]],AUTHORITY[\"EPSG\",\"6326\"]],PRIMEM[\"Greenwich\",0,AUTHORITY[\"EPSG\",\"8901\"]],UNIT[\"degree\",0.0174532925199433,AUTHORITY[\"EPSG\",\"9122\"]],AUTHORITY[\"EPSG\",\"4326\"]],PROJECTION[\"Transverse_Mercator\"],PARAMETER[\"latitude_of_origin\",0],PARAMETER[\"central_meridian\",-75],PARAMETER[\"scale_factor\",0.9996],PARAMETER[\"false_easting\",500000],PARAMETER[\"false_northing\",0],UNIT[\"metre\",1,AUTHORITY[\"EPSG\",\"9001\"]],AXIS[\"Easting\",EAST],AXIS[\"Northing\",NORTH],AUTHORITY[\"EPSG\",\"32618\"]]'}}\n"
     ]
    },
    {
     "ename": "KeyError",
     "evalue": "'geo_ref_points'",
     "output_type": "error",
     "traceback": [
      "\u001b[1;31m\u001b[0m",
      "\u001b[1;31mKeyError\u001b[0mTraceback (most recent call last)",
      "\u001b[1;32m<ipython-input-310-053960c7aed7>\u001b[0m in \u001b[0;36m<module>\u001b[1;34m()\u001b[0m\n\u001b[0;32m      1\u001b[0m \u001b[0msafe_file\u001b[0m \u001b[1;33m=\u001b[0m \u001b[1;34mr\"/home/cubo/john_r_s2_ingestion/S2A_MSIL2A_20170901T152641_N0205_R025_T18NWG_20170901T153206.SAFE\"\u001b[0m\u001b[1;33m\u001b[0m\u001b[0m\n\u001b[1;32m----> 2\u001b[1;33m \u001b[0mtest_main\u001b[0m\u001b[1;33m(\u001b[0m\u001b[1;33m[\u001b[0m\u001b[0msafe_file\u001b[0m\u001b[1;33m]\u001b[0m\u001b[1;33m)\u001b[0m\u001b[1;33m\u001b[0m\u001b[0m\n\u001b[0m",
      "\u001b[1;32m<ipython-input-309-b864db2d8249>\u001b[0m in \u001b[0;36mtest_main\u001b[1;34m(datasets)\u001b[0m\n\u001b[0;32m      8\u001b[0m         \u001b[1;32mprint\u001b[0m\u001b[1;33m(\u001b[0m\u001b[1;34m\"Processing\"\u001b[0m\u001b[1;33m,\u001b[0m \u001b[0mpath\u001b[0m\u001b[1;33m)\u001b[0m\u001b[1;33m\u001b[0m\u001b[0m\n\u001b[0;32m      9\u001b[0m         \u001b[0mlogging\u001b[0m\u001b[1;33m.\u001b[0m\u001b[0minfo\u001b[0m\u001b[1;33m(\u001b[0m\u001b[1;34m\"Processing %s\"\u001b[0m\u001b[1;33m,\u001b[0m \u001b[0mpath\u001b[0m\u001b[1;33m)\u001b[0m\u001b[1;33m\u001b[0m\u001b[0m\n\u001b[1;32m---> 10\u001b[1;33m         \u001b[0mdocuments\u001b[0m \u001b[1;33m=\u001b[0m \u001b[0mprepare_datasets\u001b[0m\u001b[1;33m(\u001b[0m\u001b[0mpath\u001b[0m\u001b[1;33m)\u001b[0m\u001b[1;33m\u001b[0m\u001b[0m\n\u001b[0m\u001b[0;32m     11\u001b[0m         \u001b[1;32mprint\u001b[0m\u001b[1;33m(\u001b[0m\u001b[1;34m\"completed preparing dataset, about to write output\"\u001b[0m\u001b[1;33m)\u001b[0m\u001b[1;33m\u001b[0m\u001b[0m\n\u001b[0;32m     12\u001b[0m         \u001b[0mdataset\u001b[0m\u001b[1;33m,\u001b[0m \u001b[0mfolder\u001b[0m \u001b[1;33m=\u001b[0m \u001b[0mdocuments\u001b[0m\u001b[1;33m\u001b[0m\u001b[0m\n",
      "\u001b[1;32m<ipython-input-308-f82af54a93b0>\u001b[0m in \u001b[0;36mprepare_datasets\u001b[1;34m(nbar_path)\u001b[0m\n\u001b[0;32m    131\u001b[0m         'creation_dt': '%s-%s-%s 00:00:00' % (fields['productyear'], fields['productmonth'], fields['productday'])})\n\u001b[0;32m    132\u001b[0m \u001b[1;33m\u001b[0m\u001b[0m\n\u001b[1;32m--> 133\u001b[1;33m     \u001b[0mnbar\u001b[0m \u001b[1;33m=\u001b[0m \u001b[0mprep_dataset\u001b[0m\u001b[1;33m(\u001b[0m\u001b[0mfields\u001b[0m\u001b[1;33m,\u001b[0m \u001b[0mnbar_path\u001b[0m\u001b[1;33m)\u001b[0m\u001b[1;33m\u001b[0m\u001b[0m\n\u001b[0m\u001b[0;32m    134\u001b[0m     \u001b[1;32mreturn\u001b[0m \u001b[1;33m(\u001b[0m\u001b[0mnbar\u001b[0m\u001b[1;33m,\u001b[0m \u001b[0mnbar_path\u001b[0m\u001b[1;33m)\u001b[0m\u001b[1;33m\u001b[0m\u001b[0m\n\u001b[0;32m    135\u001b[0m \u001b[1;33m\u001b[0m\u001b[0m\n",
      "\u001b[1;32m<ipython-input-308-f82af54a93b0>\u001b[0m in \u001b[0;36mprep_dataset\u001b[1;34m(fields, path)\u001b[0m\n\u001b[0;32m    108\u001b[0m     }\n\u001b[0;32m    109\u001b[0m \u001b[1;33m\u001b[0m\u001b[0m\n\u001b[1;32m--> 110\u001b[1;33m     \u001b[0mpopulate_coord\u001b[0m\u001b[1;33m(\u001b[0m\u001b[0mdoc\u001b[0m\u001b[1;33m)\u001b[0m\u001b[1;33m\u001b[0m\u001b[0m\n\u001b[0m\u001b[0;32m    111\u001b[0m     \u001b[1;32mreturn\u001b[0m \u001b[0mdoc\u001b[0m\u001b[1;33m\u001b[0m\u001b[0m\n\u001b[0;32m    112\u001b[0m \u001b[1;33m\u001b[0m\u001b[0m\n",
      "\u001b[1;32m<ipython-input-308-f82af54a93b0>\u001b[0m in \u001b[0;36mpopulate_coord\u001b[1;34m(doc)\u001b[0m\n\u001b[0;32m     36\u001b[0m \u001b[1;32mdef\u001b[0m \u001b[0mpopulate_coord\u001b[0m\u001b[1;33m(\u001b[0m\u001b[0mdoc\u001b[0m\u001b[1;33m)\u001b[0m\u001b[1;33m:\u001b[0m\u001b[1;33m\u001b[0m\u001b[0m\n\u001b[0;32m     37\u001b[0m     \u001b[0mproj\u001b[0m \u001b[1;33m=\u001b[0m \u001b[0mdoc\u001b[0m\u001b[1;33m[\u001b[0m\u001b[1;34m'grid_spatial'\u001b[0m\u001b[1;33m]\u001b[0m\u001b[1;33m[\u001b[0m\u001b[1;34m'projection'\u001b[0m\u001b[1;33m]\u001b[0m\u001b[1;33m\u001b[0m\u001b[0m\n\u001b[1;32m---> 38\u001b[1;33m     \u001b[0mdoc\u001b[0m\u001b[1;33m[\u001b[0m\u001b[1;34m'extent'\u001b[0m\u001b[1;33m]\u001b[0m\u001b[1;33m[\u001b[0m\u001b[1;34m'coord'\u001b[0m\u001b[1;33m]\u001b[0m \u001b[1;33m=\u001b[0m \u001b[0mget_coords\u001b[0m\u001b[1;33m(\u001b[0m\u001b[0mproj\u001b[0m\u001b[1;33m[\u001b[0m\u001b[1;34m'geo_ref_points'\u001b[0m\u001b[1;33m]\u001b[0m\u001b[1;33m,\u001b[0m \u001b[0mproj\u001b[0m\u001b[1;33m[\u001b[0m\u001b[1;34m'spatial_reference'\u001b[0m\u001b[1;33m]\u001b[0m\u001b[1;33m)\u001b[0m\u001b[1;33m\u001b[0m\u001b[0m\n\u001b[0m\u001b[0;32m     39\u001b[0m \u001b[1;33m\u001b[0m\u001b[0m\n\u001b[0;32m     40\u001b[0m \u001b[1;32mdef\u001b[0m \u001b[0mget_projection\u001b[0m\u001b[1;33m(\u001b[0m\u001b[0mpath\u001b[0m\u001b[1;33m)\u001b[0m\u001b[1;33m:\u001b[0m\u001b[1;33m\u001b[0m\u001b[0m\n",
      "\u001b[1;31mKeyError\u001b[0m: 'geo_ref_points'"
     ]
    }
   ],
   "source": [
    "safe_file = r\"/home/cubo/john_r_s2_ingestion/S2A_MSIL2A_20170901T152641_N0205_R025_T18NWG_20170901T153206.SAFE\"\n",
    "test_main([safe_file])"
   ]
  },
  {
   "cell_type": "code",
   "execution_count": 187,
   "metadata": {
    "collapsed": true
   },
   "outputs": [],
   "source": [
    "\"\"\"IDEAM datacube preprocessing script. Includes:\n",
    "jp2 conversion to geotiff using old GDAL\n",
    "Duplicate product cleaner\n",
    "By John Roberts, jfr10@le.ac.uk\"\"\"\n",
    "\n",
    "from collections import deque\n",
    "from xml.etree import ElementTree\n",
    "import subprocess\n",
    "import gdal, osr\n",
    "import re\n",
    "\n",
    "gdal.UseExceptions()\n",
    "\n",
    "def extract_metadata(jp2_path):\n",
    "    \"\"\"Extracts the XML metadata in a jp2 geo-image as a bytestring. No GDAL.\"\"\"\n",
    "    with open(jp2_path, \"rb\") as jp2_bytes:\n",
    "        # This iterates through the jp2 file byte-by-byte, looking \n",
    "        # for the start tag FeatureCollection. Once found, it reads\n",
    "        # bytes into output string until the matching closing tag\n",
    "        # is found. Finally, it strips out extra characters\n",
    "        testqueue = deque(maxlen=24)\n",
    "        testqueue.append(jp2_bytes.read(1))\n",
    "        out = b\"\"\n",
    "        # Look for first xml element\n",
    "        while b\"<gml:FeatureCollection x\" not in b\"\".join(testqueue):\n",
    "            testqueue.append(jp2_bytes.read(1))\n",
    "        out += b\"\".join(testqueue)\n",
    "        # Look for the bytes that explicitly are NOT xml\n",
    "        while b'\\x00\\x00\\x00\\x00' not in b\"\".join(testqueue):\n",
    "            testqueue.append(jp2_bytes.read(1))\n",
    "            out += testqueue[-1]\n",
    "        # Removing newline characters and stripping extra bytes at end\n",
    "        # out = out.replace(\"\\n\", \"\")\n",
    "        out = out[:out.rfind(b\">\")+1]\n",
    "    return out\n",
    "\n",
    "\n",
    "def get_geotransform_from_metadata(metadata_string):\n",
    "    \"\"\"Returns the gdal geotransform, raster size and CRS string from metadata.\"\"\"\n",
    "    metadata = ElementTree.fromstring(metadata_string)\n",
    "    namespaces = {\"ns0\":r\"http://www.opengis.net/gml\"}\n",
    "\n",
    "    origin_point = metadata.find(r\".//ns0:origin/ns0:Point\", namespaces)\n",
    "    projection = origin_point.attrib.get(\"srsName\")\n",
    "\n",
    "    origin_pos = origin_point.find(r\".//ns0:pos\", namespaces)\n",
    "    origin_pos_tuple = origin_pos.text.split(\" \")\n",
    "    origin_pos_tuple = tuple(int(coord) for coord in origin_pos_tuple)\n",
    "\n",
    "    size_node = metadata.find(r\".//ns0:GridEnvelope/ns0:high\", namespaces)\n",
    "    size_tuple = size_node.text.split(\" \")\n",
    "    size_tuple = tuple(int(coord) for coord in size_tuple)\n",
    "\n",
    "    res_nodes = metadata.findall(r\".//ns0:RectifiedGrid/ns0:offsetVector\", namespaces)\n",
    "    x_res = int(res_nodes[0].text.split(\" \")[0])\n",
    "    y_res = int(res_nodes[1].text.split(\" \")[1])\n",
    "\n",
    "    # build the geotransform\n",
    "    gt = (origin_pos_tuple[0], x_res, 0, origin_pos_tuple[1], 0, y_res)\n",
    "    return gt, size_tuple, projection\n",
    "\n",
    "\n",
    "def add_projection_and_extent_to_tiff(tif_path, metadata_tuple):\n",
    "    \"\"\"Restores geospatial data to a tiff. Takes output from\n",
    "    get_geotransform_from_metadata\"\"\"\n",
    "    gt, size, projection = metadata_tuple\n",
    "    EPSG = int(projection.split(\"::\")[-1])\n",
    "    srs = osr.SpatialReference()\n",
    "    srs.ImportFromEPSG(EPSG)\n",
    "    image = gdal.Open(tif_path, gdal.GA_Update)\n",
    "    image.SetGeoTransform(gt)\n",
    "    image.SetProjection(srs.ExportToWkt())\n",
    "    print image.GetProjection()\n",
    "    image = None\n",
    "    \n",
    "\n",
    "def convert_jp2_to_tiff(jp2_path, tif_path):\n",
    "    \"\"\"Converts a jp2 to a tif (NOT Geotiff) using Jpeg2000 tools\"\"\"\n",
    "    subprocess.call([\"opj_decompress\", \"-i\", jp2_path, \"-o\", tif_path])\n",
    "    return tif_path\n",
    "\n",
    "\n",
    "def replace_jp2_with_geotiff(jp2_path, remove_old=False):\n",
    "    \"\"\"Will replace a jp2 with a geotiff of the same name.\n",
    "    Can remove old jp2\"\"\"\n",
    "    tif_path = jp2_path[-4]+\".tif\"\n",
    "    metadata_string = extract_metadata(jp2_path)\n",
    "    metadata = get_geotransform_from_metadata(metadata_string)\n",
    "    convert_jp2_to_tiff(jp2_path, tif_path)\n",
    "    add_projection_and_extent_to_tiff(tif_path, metadata)\n",
    "    if remove_old:\n",
    "        os.rm(jp2_path)\n",
    "\n",
    "        \n",
    "def convert_dir_to_geotiff(jp2_dir, remove_old=False):\n",
    "    \"\"\"Converts an entire directory of jp2 to geotiff\"\"\"\n",
    "    images = glob.glob(os.path.join(jp2_dir, \"*.jp2\"))\n",
    "    for image in images:\n",
    "        replace_jp2_with_geotiff(image, remove_old)\n",
    "        \n",
    "    \n",
    "def remove_extra_s2_images(safe_file):\n",
    "    \"\"\"Removes images stored at a higher resolution than required\"\"\"\n",
    "    # Two regexes that match every band except those listed after the ?!\n",
    "    re_20_m=r\"L2A_\\S+_B(?!05|06|07|8A|11|12)\\S+(.jp2|.tif)\"\n",
    "    re_60_m=r\"L2A_\\S+_B(?!01|09|10)\\S+(.jp2|.tif)\"\n",
    "    \n",
    "    base_glob = os.path.join(safe_file, \"GRANULE\", '*', \"IMG_DATA\")\n",
    "    glob_20_m = os.path.join(base_glob, \"R20m\")\n",
    "    glob_60_m = os.path.join(base_glob, \"R60m\")\n",
    "    path_20_m = glob.glob(glob_20_m)[0]\n",
    "    path_60_m = glob.glob(glob_60_m)[0]\n",
    "    list_20_m = os.listdir(path_20_m)\n",
    "    list_60_m = os.listdir(path_60_m)\n",
    "\n",
    "    \n",
    "    regex_output_20 = list(re.match(re_20_m, path) for path in list_20_m)\n",
    "    to_delete_20 = list(os.path.join(path_20_m,match.group(0))\n",
    "                        for match in regex_output_20 if match)\n",
    "    \n",
    "    regex_output_60 = list(re.match(re_60_m, path) for path in list_60_m)\n",
    "    to_delete_60 = list(os.path.join(path_60_m,match.group(0))\n",
    "                        for match in regex_output_60 if match)\n",
    "    \n",
    "    for tbd in to_delete_20+to_delete_60:\n",
    "        print \"Deleting \"+tbd+\"\\n\"\n",
    "        os.remove(tbd)\n",
    "    \n",
    "    \n"
   ]
  },
  {
   "cell_type": "code",
   "execution_count": 189,
   "metadata": {},
   "outputs": [
    {
     "name": "stdout",
     "output_type": "stream",
     "text": [
      "['/home/cubo/john_r_s2_ingestion/S2A_MSIL2A_20170901T152641_N0205_R025_T18NWG_20170901T153206.SAFE/GRANULE/L2A_T18NWG_A011462_20170901T153206/IMG_DATA/R20m/L2A_T18NWG_20170901T152641_TCI_20m.jp2', '/home/cubo/john_r_s2_ingestion/S2A_MSIL2A_20170901T152641_N0205_R025_T18NWG_20170901T153206.SAFE/GRANULE/L2A_T18NWG_A011462_20170901T153206/IMG_DATA/R20m/L2A_T18NWG_20170901T152641_B12_20m.jp2', '/home/cubo/john_r_s2_ingestion/S2A_MSIL2A_20170901T152641_N0205_R025_T18NWG_20170901T153206.SAFE/GRANULE/L2A_T18NWG_A011462_20170901T153206/IMG_DATA/R20m/L2A_T18NWG_20170901T152641_SCL_20m.jp2', '/home/cubo/john_r_s2_ingestion/S2A_MSIL2A_20170901T152641_N0205_R025_T18NWG_20170901T153206.SAFE/GRANULE/L2A_T18NWG_A011462_20170901T153206/IMG_DATA/R20m/L2A_T18NWG_20170901T152641_AOT_20m.jp2', '/home/cubo/john_r_s2_ingestion/S2A_MSIL2A_20170901T152641_N0205_R025_T18NWG_20170901T153206.SAFE/GRANULE/L2A_T18NWG_A011462_20170901T153206/IMG_DATA/R20m/L2A_T18NWG_20170901T152641_WVP_20m.jp2', '/home/cubo/john_r_s2_ingestion/S2A_MSIL2A_20170901T152641_N0205_R025_T18NWG_20170901T153206.SAFE/GRANULE/L2A_T18NWG_A011462_20170901T153206/IMG_DATA/R20m/L2A_T18NWG_20170901T152641_B11_20m.jp2', '/home/cubo/john_r_s2_ingestion/S2A_MSIL2A_20170901T152641_N0205_R025_T18NWG_20170901T153206.SAFE/GRANULE/L2A_T18NWG_A011462_20170901T153206/IMG_DATA/R20m/L2A_T18NWG_20170901T152641_B04_20m.jp2', '/home/cubo/john_r_s2_ingestion/S2A_MSIL2A_20170901T152641_N0205_R025_T18NWG_20170901T153206.SAFE/GRANULE/L2A_T18NWG_A011462_20170901T153206/IMG_DATA/R20m/L2A_T18NWG_20170901T152641_B8A_20m.jp2', '/home/cubo/john_r_s2_ingestion/S2A_MSIL2A_20170901T152641_N0205_R025_T18NWG_20170901T153206.SAFE/GRANULE/L2A_T18NWG_A011462_20170901T153206/IMG_DATA/R20m/L2A_T18NWG_20170901T152641_B07_20m.jp2', '/home/cubo/john_r_s2_ingestion/S2A_MSIL2A_20170901T152641_N0205_R025_T18NWG_20170901T153206.SAFE/GRANULE/L2A_T18NWG_A011462_20170901T153206/IMG_DATA/R20m/L2A_T18NWG_20170901T152641_B03_20m.jp2', '/home/cubo/john_r_s2_ingestion/S2A_MSIL2A_20170901T152641_N0205_R025_T18NWG_20170901T153206.SAFE/GRANULE/L2A_T18NWG_A011462_20170901T153206/IMG_DATA/R20m/L2A_T18NWG_20170901T152641_B05_20m.jp2', '/home/cubo/john_r_s2_ingestion/S2A_MSIL2A_20170901T152641_N0205_R025_T18NWG_20170901T153206.SAFE/GRANULE/L2A_T18NWG_A011462_20170901T153206/IMG_DATA/R20m/L2A_T18NWG_20170901T152641_B06_20m.jp2', '/home/cubo/john_r_s2_ingestion/S2A_MSIL2A_20170901T152641_N0205_R025_T18NWG_20170901T153206.SAFE/GRANULE/L2A_T18NWG_A011462_20170901T153206/IMG_DATA/R20m/L2A_T18NWG_20170901T152641_B02_20m.jp2']\n",
      "PROJCS[\"WGS 84 / UTM zone 18N\",GEOGCS[\"WGS 84\",DATUM[\"WGS_1984\",SPHEROID[\"WGS 84\",6378137,298.257223563,AUTHORITY[\"EPSG\",\"7030\"]],AUTHORITY[\"EPSG\",\"6326\"]],PRIMEM[\"Greenwich\",0,AUTHORITY[\"EPSG\",\"8901\"]],UNIT[\"degree\",0.0174532925199433,AUTHORITY[\"EPSG\",\"9122\"]],AUTHORITY[\"EPSG\",\"4326\"]],PROJECTION[\"Transverse_Mercator\"],PARAMETER[\"latitude_of_origin\",0],PARAMETER[\"central_meridian\",-75],PARAMETER[\"scale_factor\",0.9996],PARAMETER[\"false_easting\",500000],PARAMETER[\"false_northing\",0],UNIT[\"metre\",1,AUTHORITY[\"EPSG\",\"9001\"]],AXIS[\"Easting\",EAST],AXIS[\"Northing\",NORTH],AUTHORITY[\"EPSG\",\"32618\"]]\n",
      "PROJCS[\"WGS 84 / UTM zone 18N\",GEOGCS[\"WGS 84\",DATUM[\"WGS_1984\",SPHEROID[\"WGS 84\",6378137,298.257223563,AUTHORITY[\"EPSG\",\"7030\"]],AUTHORITY[\"EPSG\",\"6326\"]],PRIMEM[\"Greenwich\",0,AUTHORITY[\"EPSG\",\"8901\"]],UNIT[\"degree\",0.0174532925199433,AUTHORITY[\"EPSG\",\"9122\"]],AUTHORITY[\"EPSG\",\"4326\"]],PROJECTION[\"Transverse_Mercator\"],PARAMETER[\"latitude_of_origin\",0],PARAMETER[\"central_meridian\",-75],PARAMETER[\"scale_factor\",0.9996],PARAMETER[\"false_easting\",500000],PARAMETER[\"false_northing\",0],UNIT[\"metre\",1,AUTHORITY[\"EPSG\",\"9001\"]],AXIS[\"Easting\",EAST],AXIS[\"Northing\",NORTH],AUTHORITY[\"EPSG\",\"32618\"]]\n",
      "PROJCS[\"WGS 84 / UTM zone 18N\",GEOGCS[\"WGS 84\",DATUM[\"WGS_1984\",SPHEROID[\"WGS 84\",6378137,298.257223563,AUTHORITY[\"EPSG\",\"7030\"]],AUTHORITY[\"EPSG\",\"6326\"]],PRIMEM[\"Greenwich\",0,AUTHORITY[\"EPSG\",\"8901\"]],UNIT[\"degree\",0.0174532925199433,AUTHORITY[\"EPSG\",\"9122\"]],AUTHORITY[\"EPSG\",\"4326\"]],PROJECTION[\"Transverse_Mercator\"],PARAMETER[\"latitude_of_origin\",0],PARAMETER[\"central_meridian\",-75],PARAMETER[\"scale_factor\",0.9996],PARAMETER[\"false_easting\",500000],PARAMETER[\"false_northing\",0],UNIT[\"metre\",1,AUTHORITY[\"EPSG\",\"9001\"]],AXIS[\"Easting\",EAST],AXIS[\"Northing\",NORTH],AUTHORITY[\"EPSG\",\"32618\"]]\n",
      "PROJCS[\"WGS 84 / UTM zone 18N\",GEOGCS[\"WGS 84\",DATUM[\"WGS_1984\",SPHEROID[\"WGS 84\",6378137,298.257223563,AUTHORITY[\"EPSG\",\"7030\"]],AUTHORITY[\"EPSG\",\"6326\"]],PRIMEM[\"Greenwich\",0,AUTHORITY[\"EPSG\",\"8901\"]],UNIT[\"degree\",0.0174532925199433,AUTHORITY[\"EPSG\",\"9122\"]],AUTHORITY[\"EPSG\",\"4326\"]],PROJECTION[\"Transverse_Mercator\"],PARAMETER[\"latitude_of_origin\",0],PARAMETER[\"central_meridian\",-75],PARAMETER[\"scale_factor\",0.9996],PARAMETER[\"false_easting\",500000],PARAMETER[\"false_northing\",0],UNIT[\"metre\",1,AUTHORITY[\"EPSG\",\"9001\"]],AXIS[\"Easting\",EAST],AXIS[\"Northing\",NORTH],AUTHORITY[\"EPSG\",\"32618\"]]\n",
      "PROJCS[\"WGS 84 / UTM zone 18N\",GEOGCS[\"WGS 84\",DATUM[\"WGS_1984\",SPHEROID[\"WGS 84\",6378137,298.257223563,AUTHORITY[\"EPSG\",\"7030\"]],AUTHORITY[\"EPSG\",\"6326\"]],PRIMEM[\"Greenwich\",0,AUTHORITY[\"EPSG\",\"8901\"]],UNIT[\"degree\",0.0174532925199433,AUTHORITY[\"EPSG\",\"9122\"]],AUTHORITY[\"EPSG\",\"4326\"]],PROJECTION[\"Transverse_Mercator\"],PARAMETER[\"latitude_of_origin\",0],PARAMETER[\"central_meridian\",-75],PARAMETER[\"scale_factor\",0.9996],PARAMETER[\"false_easting\",500000],PARAMETER[\"false_northing\",0],UNIT[\"metre\",1,AUTHORITY[\"EPSG\",\"9001\"]],AXIS[\"Easting\",EAST],AXIS[\"Northing\",NORTH],AUTHORITY[\"EPSG\",\"32618\"]]\n",
      "PROJCS[\"WGS 84 / UTM zone 18N\",GEOGCS[\"WGS 84\",DATUM[\"WGS_1984\",SPHEROID[\"WGS 84\",6378137,298.257223563,AUTHORITY[\"EPSG\",\"7030\"]],AUTHORITY[\"EPSG\",\"6326\"]],PRIMEM[\"Greenwich\",0,AUTHORITY[\"EPSG\",\"8901\"]],UNIT[\"degree\",0.0174532925199433,AUTHORITY[\"EPSG\",\"9122\"]],AUTHORITY[\"EPSG\",\"4326\"]],PROJECTION[\"Transverse_Mercator\"],PARAMETER[\"latitude_of_origin\",0],PARAMETER[\"central_meridian\",-75],PARAMETER[\"scale_factor\",0.9996],PARAMETER[\"false_easting\",500000],PARAMETER[\"false_northing\",0],UNIT[\"metre\",1,AUTHORITY[\"EPSG\",\"9001\"]],AXIS[\"Easting\",EAST],AXIS[\"Northing\",NORTH],AUTHORITY[\"EPSG\",\"32618\"]]\n",
      "PROJCS[\"WGS 84 / UTM zone 18N\",GEOGCS[\"WGS 84\",DATUM[\"WGS_1984\",SPHEROID[\"WGS 84\",6378137,298.257223563,AUTHORITY[\"EPSG\",\"7030\"]],AUTHORITY[\"EPSG\",\"6326\"]],PRIMEM[\"Greenwich\",0,AUTHORITY[\"EPSG\",\"8901\"]],UNIT[\"degree\",0.0174532925199433,AUTHORITY[\"EPSG\",\"9122\"]],AUTHORITY[\"EPSG\",\"4326\"]],PROJECTION[\"Transverse_Mercator\"],PARAMETER[\"latitude_of_origin\",0],PARAMETER[\"central_meridian\",-75],PARAMETER[\"scale_factor\",0.9996],PARAMETER[\"false_easting\",500000],PARAMETER[\"false_northing\",0],UNIT[\"metre\",1,AUTHORITY[\"EPSG\",\"9001\"]],AXIS[\"Easting\",EAST],AXIS[\"Northing\",NORTH],AUTHORITY[\"EPSG\",\"32618\"]]\n",
      "PROJCS[\"WGS 84 / UTM zone 18N\",GEOGCS[\"WGS 84\",DATUM[\"WGS_1984\",SPHEROID[\"WGS 84\",6378137,298.257223563,AUTHORITY[\"EPSG\",\"7030\"]],AUTHORITY[\"EPSG\",\"6326\"]],PRIMEM[\"Greenwich\",0,AUTHORITY[\"EPSG\",\"8901\"]],UNIT[\"degree\",0.0174532925199433,AUTHORITY[\"EPSG\",\"9122\"]],AUTHORITY[\"EPSG\",\"4326\"]],PROJECTION[\"Transverse_Mercator\"],PARAMETER[\"latitude_of_origin\",0],PARAMETER[\"central_meridian\",-75],PARAMETER[\"scale_factor\",0.9996],PARAMETER[\"false_easting\",500000],PARAMETER[\"false_northing\",0],UNIT[\"metre\",1,AUTHORITY[\"EPSG\",\"9001\"]],AXIS[\"Easting\",EAST],AXIS[\"Northing\",NORTH],AUTHORITY[\"EPSG\",\"32618\"]]\n",
      "PROJCS[\"WGS 84 / UTM zone 18N\",GEOGCS[\"WGS 84\",DATUM[\"WGS_1984\",SPHEROID[\"WGS 84\",6378137,298.257223563,AUTHORITY[\"EPSG\",\"7030\"]],AUTHORITY[\"EPSG\",\"6326\"]],PRIMEM[\"Greenwich\",0,AUTHORITY[\"EPSG\",\"8901\"]],UNIT[\"degree\",0.0174532925199433,AUTHORITY[\"EPSG\",\"9122\"]],AUTHORITY[\"EPSG\",\"4326\"]],PROJECTION[\"Transverse_Mercator\"],PARAMETER[\"latitude_of_origin\",0],PARAMETER[\"central_meridian\",-75],PARAMETER[\"scale_factor\",0.9996],PARAMETER[\"false_easting\",500000],PARAMETER[\"false_northing\",0],UNIT[\"metre\",1,AUTHORITY[\"EPSG\",\"9001\"]],AXIS[\"Easting\",EAST],AXIS[\"Northing\",NORTH],AUTHORITY[\"EPSG\",\"32618\"]]\n",
      "PROJCS[\"WGS 84 / UTM zone 18N\",GEOGCS[\"WGS 84\",DATUM[\"WGS_1984\",SPHEROID[\"WGS 84\",6378137,298.257223563,AUTHORITY[\"EPSG\",\"7030\"]],AUTHORITY[\"EPSG\",\"6326\"]],PRIMEM[\"Greenwich\",0,AUTHORITY[\"EPSG\",\"8901\"]],UNIT[\"degree\",0.0174532925199433,AUTHORITY[\"EPSG\",\"9122\"]],AUTHORITY[\"EPSG\",\"4326\"]],PROJECTION[\"Transverse_Mercator\"],PARAMETER[\"latitude_of_origin\",0],PARAMETER[\"central_meridian\",-75],PARAMETER[\"scale_factor\",0.9996],PARAMETER[\"false_easting\",500000],PARAMETER[\"false_northing\",0],UNIT[\"metre\",1,AUTHORITY[\"EPSG\",\"9001\"]],AXIS[\"Easting\",EAST],AXIS[\"Northing\",NORTH],AUTHORITY[\"EPSG\",\"32618\"]]\n"
     ]
    },
    {
     "name": "stdout",
     "output_type": "stream",
     "text": [
      "PROJCS[\"WGS 84 / UTM zone 18N\",GEOGCS[\"WGS 84\",DATUM[\"WGS_1984\",SPHEROID[\"WGS 84\",6378137,298.257223563,AUTHORITY[\"EPSG\",\"7030\"]],AUTHORITY[\"EPSG\",\"6326\"]],PRIMEM[\"Greenwich\",0,AUTHORITY[\"EPSG\",\"8901\"]],UNIT[\"degree\",0.0174532925199433,AUTHORITY[\"EPSG\",\"9122\"]],AUTHORITY[\"EPSG\",\"4326\"]],PROJECTION[\"Transverse_Mercator\"],PARAMETER[\"latitude_of_origin\",0],PARAMETER[\"central_meridian\",-75],PARAMETER[\"scale_factor\",0.9996],PARAMETER[\"false_easting\",500000],PARAMETER[\"false_northing\",0],UNIT[\"metre\",1,AUTHORITY[\"EPSG\",\"9001\"]],AXIS[\"Easting\",EAST],AXIS[\"Northing\",NORTH],AUTHORITY[\"EPSG\",\"32618\"]]\n",
      "PROJCS[\"WGS 84 / UTM zone 18N\",GEOGCS[\"WGS 84\",DATUM[\"WGS_1984\",SPHEROID[\"WGS 84\",6378137,298.257223563,AUTHORITY[\"EPSG\",\"7030\"]],AUTHORITY[\"EPSG\",\"6326\"]],PRIMEM[\"Greenwich\",0,AUTHORITY[\"EPSG\",\"8901\"]],UNIT[\"degree\",0.0174532925199433,AUTHORITY[\"EPSG\",\"9122\"]],AUTHORITY[\"EPSG\",\"4326\"]],PROJECTION[\"Transverse_Mercator\"],PARAMETER[\"latitude_of_origin\",0],PARAMETER[\"central_meridian\",-75],PARAMETER[\"scale_factor\",0.9996],PARAMETER[\"false_easting\",500000],PARAMETER[\"false_northing\",0],UNIT[\"metre\",1,AUTHORITY[\"EPSG\",\"9001\"]],AXIS[\"Easting\",EAST],AXIS[\"Northing\",NORTH],AUTHORITY[\"EPSG\",\"32618\"]]\n",
      "PROJCS[\"WGS 84 / UTM zone 18N\",GEOGCS[\"WGS 84\",DATUM[\"WGS_1984\",SPHEROID[\"WGS 84\",6378137,298.257223563,AUTHORITY[\"EPSG\",\"7030\"]],AUTHORITY[\"EPSG\",\"6326\"]],PRIMEM[\"Greenwich\",0,AUTHORITY[\"EPSG\",\"8901\"]],UNIT[\"degree\",0.0174532925199433,AUTHORITY[\"EPSG\",\"9122\"]],AUTHORITY[\"EPSG\",\"4326\"]],PROJECTION[\"Transverse_Mercator\"],PARAMETER[\"latitude_of_origin\",0],PARAMETER[\"central_meridian\",-75],PARAMETER[\"scale_factor\",0.9996],PARAMETER[\"false_easting\",500000],PARAMETER[\"false_northing\",0],UNIT[\"metre\",1,AUTHORITY[\"EPSG\",\"9001\"]],AXIS[\"Easting\",EAST],AXIS[\"Northing\",NORTH],AUTHORITY[\"EPSG\",\"32618\"]]\n"
     ]
    }
   ],
   "source": [
    "test_image = r'/home/cubo/john_r_s2_ingestion/S2A_MSIL2A_20170901T152641_N0205_R025_T18NWG_20170901T153206.SAFE/GRANULE/L2A_T18NWG_A011462_20170901T153206/IMG_DATA/R20m/L2A_T18NWG_20170901T152641_B05_20m.jp2'\n",
    "test_out = r'/home/cubo/john_r_s2_ingestion/S2A_MSIL2A_20170901T152641_N0205_R025_T18NWG_20170901T153206.SAFE/GRANULE/L2A_T18NWG_A011462_20170901T153206/IMG_DATA/R20m/L2A_T18NWG_20170901T152641_B05_20m.tif'\n",
    "jp2_dir = (r\"/home/cubo/john_r_s2_ingestion/S2A_MSIL2A_20170901T152641_N0205_R025_T18NWG_20170901T153206.SAFE/GRANULE/L2A_T18NWG_A011462_20170901T153206/IMG_DATA/R20m/\")\n",
    "convert_dir_to_geotiff(jp2_dir)"
   ]
  },
  {
   "cell_type": "code",
   "execution_count": 273,
   "metadata": {
    "collapsed": true
   },
   "outputs": [],
   "source": [
    "\n",
    "    \n",
    "    "
   ]
  },
  {
   "cell_type": "code",
   "execution_count": 274,
   "metadata": {
    "collapsed": true
   },
   "outputs": [],
   "source": [
    "safe_file = \"/home/cubo/john_r_s2_ingestion/S2A_MSIL2A_20170901T152641_N0205_R025_T18NWG_20170901T153206.SAFE\"\n",
    "remove_extra_s2_images(safe_file)"
   ]
  },
  {
   "cell_type": "code",
   "execution_count": 16,
   "metadata": {
    "collapsed": true
   },
   "outputs": [],
   "source": [
    "foo = Path(test_fp).stem"
   ]
  },
  {
   "cell_type": "code",
   "execution_count": 19,
   "metadata": {
    "collapsed": true
   },
   "outputs": [],
   "source": [
    "match = re.match((r\"(?P<sensor>S2A|S2B)_MSIL2A_\"\n",
    "                       r\"(?P<productyear>[0-9]{4})\"\n",
    "                       r\"(?P<productmonth>[0-9]{2})\"\n",
    "                       r\"(?P<productday>[0-9]{2})T\"\n",
    "                       r\"(?P<producthour>[0-9]{2})\"\n",
    "                       r\"(?P<productminute>[0-9]{2})\"\n",
    "                       r\"(?P<productsecond>[0-9]{2})_N\"\n",
    "                       r\"(?P<baselinenumber>[0-9]{4})_R\"\n",
    "                       r\"(?P<relativeorbit>[0-9]{3})_T\"\n",
    "                       r\"(?P<tile>[A-Z0-9]{5})_\"), foo)"
   ]
  },
  {
   "cell_type": "code",
   "execution_count": 28,
   "metadata": {},
   "outputs": [
    {
     "data": {
      "text/plain": [
       "{'baselinenumber': '0205',\n",
       " 'productday': '01',\n",
       " 'producthour': '15',\n",
       " 'productminute': '26',\n",
       " 'productmonth': '09',\n",
       " 'productsecond': '41',\n",
       " 'productyear': '2017',\n",
       " 'relativeorbit': '025',\n",
       " 'sensor': 'S2A',\n",
       " 'tile': '18NWG'}"
      ]
     },
     "execution_count": 28,
     "metadata": {},
     "output_type": "execute_result"
    }
   ],
   "source": [
    "match.groupdict()"
   ]
  },
  {
   "cell_type": "code",
   "execution_count": 30,
   "metadata": {
    "collapsed": true
   },
   "outputs": [],
   "source": [
    "import glob"
   ]
  },
  {
   "cell_type": "code",
   "execution_count": 286,
   "metadata": {
    "collapsed": true
   },
   "outputs": [],
   "source": [
    "    images_list = []\n",
    "    \n",
    "    image_glob = os.path.join(safe_file, \"GRANULE\", '*', \"IMG_DATA\", \"R*\", \"*tif\")\n",
    "    \n",
    "    images_list =glob.glob(image_glob)"
   ]
  },
  {
   "cell_type": "code",
   "execution_count": 287,
   "metadata": {},
   "outputs": [
    {
     "ename": "NameError",
     "evalue": "name 'foo' is not defined",
     "output_type": "error",
     "traceback": [
      "\u001b[1;31m\u001b[0m",
      "\u001b[1;31mNameError\u001b[0mTraceback (most recent call last)",
      "\u001b[1;32m<ipython-input-287-9052aec271e7>\u001b[0m in \u001b[0;36m<module>\u001b[1;34m()\u001b[0m\n\u001b[0;32m      1\u001b[0m {im_path.stem.replace('L2A_',''): {\n\u001b[0;32m      2\u001b[0m       \u001b[1;34m'path'\u001b[0m\u001b[1;33m:\u001b[0m \u001b[0mstr\u001b[0m\u001b[1;33m(\u001b[0m\u001b[0mim_path\u001b[0m\u001b[1;33m.\u001b[0m\u001b[0mrelative_to\u001b[0m\u001b[1;33m(\u001b[0m\u001b[0mpath\u001b[0m\u001b[1;33m)\u001b[0m\u001b[1;33m)\u001b[0m\u001b[1;33m\u001b[0m\u001b[0m\n\u001b[1;32m----> 3\u001b[1;33m   } for im_path in foo.glob('*.jp2')}\n\u001b[0m",
      "\u001b[1;31mNameError\u001b[0m: name 'foo' is not defined"
     ]
    }
   ],
   "source": [
    "  {im_path.stem.replace('L2A_',''): {\n",
    "        'path': str(im_path.relative_to(path))   \n",
    "    } for im_path in foo.glob('*.jp2')}"
   ]
  },
  {
   "cell_type": "code",
   "execution_count": 288,
   "metadata": {},
   "outputs": [
    {
     "data": {
      "text/plain": [
       "'/home/cubo/john_r_s2_ingestion/S2A_MSIL2A_20170901T152641_N0205_R025_T18NWG_20170901T153206.SAFE/GRANULE/L2A_T18NWG_A011462_20170901T153206/IMG_DATA/R60m/L2A_T18NWG_20170901T152641_TCI_60m.tif'"
      ]
     },
     "execution_count": 288,
     "metadata": {},
     "output_type": "execute_result"
    }
   ],
   "source": [
    "images_list[0]"
   ]
  },
  {
   "cell_type": "code",
   "execution_count": 304,
   "metadata": {},
   "outputs": [
    {
     "name": "stdout",
     "output_type": "stream",
     "text": [
      "\n"
     ]
    }
   ],
   "source": [
    "import gdal\n",
    "image = gdal.Open(images_list[0])\n",
    "proj = image.GetProjection()\n",
    "print proj"
   ]
  },
  {
   "cell_type": "code",
   "execution_count": 290,
   "metadata": {},
   "outputs": [
    {
     "ename": "NotImplementedError",
     "evalue": "Wrong number or type of arguments for overloaded function 'CoordinateTransformation_TransformPoint'.\n  Possible C/C++ prototypes are:\n    OSRCoordinateTransformationShadow::TransformPoint(double [3])\n    OSRCoordinateTransformationShadow::TransformPoint(double [3],double,double,double)\n",
     "output_type": "error",
     "traceback": [
      "\u001b[1;31m\u001b[0m",
      "\u001b[1;31mNotImplementedError\u001b[0mTraceback (most recent call last)",
      "\u001b[1;32m<ipython-input-290-67533809a09f>\u001b[0m in \u001b[0;36m<module>\u001b[1;34m()\u001b[0m\n\u001b[0;32m      6\u001b[0m     \u001b[1;34m\"extent\"\u001b[0m\u001b[1;33m:\u001b[0m\u001b[1;33m{\u001b[0m\u001b[1;33m}\u001b[0m\u001b[1;33m\u001b[0m\u001b[0m\n\u001b[0;32m      7\u001b[0m }\n\u001b[1;32m----> 8\u001b[1;33m \u001b[0mpopulate_coord\u001b[0m\u001b[1;33m(\u001b[0m\u001b[0mtest_doc\u001b[0m\u001b[1;33m)\u001b[0m\u001b[1;33m\u001b[0m\u001b[0m\n\u001b[0m\u001b[0;32m      9\u001b[0m \u001b[0mtest_doc\u001b[0m\u001b[1;33m\u001b[0m\u001b[0m\n",
      "\u001b[1;32m<ipython-input-275-d5b045906e10>\u001b[0m in \u001b[0;36mpopulate_coord\u001b[1;34m(doc)\u001b[0m\n\u001b[0;32m     35\u001b[0m \u001b[1;32mdef\u001b[0m \u001b[0mpopulate_coord\u001b[0m\u001b[1;33m(\u001b[0m\u001b[0mdoc\u001b[0m\u001b[1;33m)\u001b[0m\u001b[1;33m:\u001b[0m\u001b[1;33m\u001b[0m\u001b[0m\n\u001b[0;32m     36\u001b[0m     \u001b[0mproj\u001b[0m \u001b[1;33m=\u001b[0m \u001b[0mdoc\u001b[0m\u001b[1;33m[\u001b[0m\u001b[1;34m'grid_spatial'\u001b[0m\u001b[1;33m]\u001b[0m\u001b[1;33m[\u001b[0m\u001b[1;34m'projection'\u001b[0m\u001b[1;33m]\u001b[0m\u001b[1;33m\u001b[0m\u001b[0m\n\u001b[1;32m---> 37\u001b[1;33m     \u001b[0mdoc\u001b[0m\u001b[1;33m[\u001b[0m\u001b[1;34m'extent'\u001b[0m\u001b[1;33m]\u001b[0m\u001b[1;33m[\u001b[0m\u001b[1;34m'coord'\u001b[0m\u001b[1;33m]\u001b[0m \u001b[1;33m=\u001b[0m \u001b[0mget_coords\u001b[0m\u001b[1;33m(\u001b[0m\u001b[0mproj\u001b[0m\u001b[1;33m[\u001b[0m\u001b[1;34m'geo_ref_points'\u001b[0m\u001b[1;33m]\u001b[0m\u001b[1;33m,\u001b[0m \u001b[0mproj\u001b[0m\u001b[1;33m[\u001b[0m\u001b[1;34m'spatial_reference'\u001b[0m\u001b[1;33m]\u001b[0m\u001b[1;33m)\u001b[0m\u001b[1;33m\u001b[0m\u001b[0m\n\u001b[0m\u001b[0;32m     38\u001b[0m \u001b[1;33m\u001b[0m\u001b[0m\n\u001b[0;32m     39\u001b[0m \u001b[1;32mdef\u001b[0m \u001b[0mget_projection\u001b[0m\u001b[1;33m(\u001b[0m\u001b[0mpath\u001b[0m\u001b[1;33m)\u001b[0m\u001b[1;33m:\u001b[0m\u001b[1;33m\u001b[0m\u001b[0m\n",
      "\u001b[1;32m<ipython-input-275-d5b045906e10>\u001b[0m in \u001b[0;36mget_coords\u001b[1;34m(geo_ref_points, spatial_ref)\u001b[0m\n\u001b[0;32m     31\u001b[0m         \u001b[0mlon\u001b[0m\u001b[1;33m,\u001b[0m \u001b[0mlat\u001b[0m\u001b[1;33m,\u001b[0m \u001b[0mz\u001b[0m \u001b[1;33m=\u001b[0m \u001b[0mt\u001b[0m\u001b[1;33m.\u001b[0m\u001b[0mTransformPoint\u001b[0m\u001b[1;33m(\u001b[0m\u001b[0mp\u001b[0m\u001b[1;33m[\u001b[0m\u001b[1;34m'x'\u001b[0m\u001b[1;33m]\u001b[0m\u001b[1;33m,\u001b[0m \u001b[0mp\u001b[0m\u001b[1;33m[\u001b[0m\u001b[1;34m'y'\u001b[0m\u001b[1;33m]\u001b[0m\u001b[1;33m)\u001b[0m\u001b[1;33m\u001b[0m\u001b[0m\n\u001b[0;32m     32\u001b[0m         \u001b[1;32mreturn\u001b[0m \u001b[1;33m{\u001b[0m\u001b[1;34m'lon'\u001b[0m\u001b[1;33m:\u001b[0m \u001b[0mlon\u001b[0m\u001b[1;33m,\u001b[0m \u001b[1;34m'lat'\u001b[0m\u001b[1;33m:\u001b[0m \u001b[0mlat\u001b[0m\u001b[1;33m}\u001b[0m\u001b[1;33m\u001b[0m\u001b[0m\n\u001b[1;32m---> 33\u001b[1;33m     \u001b[1;32mreturn\u001b[0m \u001b[1;33m{\u001b[0m\u001b[0mkey\u001b[0m\u001b[1;33m:\u001b[0m \u001b[0mtransform\u001b[0m\u001b[1;33m(\u001b[0m\u001b[0mp\u001b[0m\u001b[1;33m)\u001b[0m \u001b[1;32mfor\u001b[0m \u001b[0mkey\u001b[0m\u001b[1;33m,\u001b[0m \u001b[0mp\u001b[0m \u001b[1;32min\u001b[0m \u001b[0mgeo_ref_points\u001b[0m\u001b[1;33m.\u001b[0m\u001b[0mitems\u001b[0m\u001b[1;33m(\u001b[0m\u001b[1;33m)\u001b[0m\u001b[1;33m}\u001b[0m\u001b[1;33m\u001b[0m\u001b[0m\n\u001b[0m\u001b[0;32m     34\u001b[0m \u001b[1;33m\u001b[0m\u001b[0m\n\u001b[0;32m     35\u001b[0m \u001b[1;32mdef\u001b[0m \u001b[0mpopulate_coord\u001b[0m\u001b[1;33m(\u001b[0m\u001b[0mdoc\u001b[0m\u001b[1;33m)\u001b[0m\u001b[1;33m:\u001b[0m\u001b[1;33m\u001b[0m\u001b[0m\n",
      "\u001b[1;32m<ipython-input-275-d5b045906e10>\u001b[0m in \u001b[0;36m<dictcomp>\u001b[1;34m((key, p))\u001b[0m\n\u001b[0;32m     31\u001b[0m         \u001b[0mlon\u001b[0m\u001b[1;33m,\u001b[0m \u001b[0mlat\u001b[0m\u001b[1;33m,\u001b[0m \u001b[0mz\u001b[0m \u001b[1;33m=\u001b[0m \u001b[0mt\u001b[0m\u001b[1;33m.\u001b[0m\u001b[0mTransformPoint\u001b[0m\u001b[1;33m(\u001b[0m\u001b[0mp\u001b[0m\u001b[1;33m[\u001b[0m\u001b[1;34m'x'\u001b[0m\u001b[1;33m]\u001b[0m\u001b[1;33m,\u001b[0m \u001b[0mp\u001b[0m\u001b[1;33m[\u001b[0m\u001b[1;34m'y'\u001b[0m\u001b[1;33m]\u001b[0m\u001b[1;33m)\u001b[0m\u001b[1;33m\u001b[0m\u001b[0m\n\u001b[0;32m     32\u001b[0m         \u001b[1;32mreturn\u001b[0m \u001b[1;33m{\u001b[0m\u001b[1;34m'lon'\u001b[0m\u001b[1;33m:\u001b[0m \u001b[0mlon\u001b[0m\u001b[1;33m,\u001b[0m \u001b[1;34m'lat'\u001b[0m\u001b[1;33m:\u001b[0m \u001b[0mlat\u001b[0m\u001b[1;33m}\u001b[0m\u001b[1;33m\u001b[0m\u001b[0m\n\u001b[1;32m---> 33\u001b[1;33m     \u001b[1;32mreturn\u001b[0m \u001b[1;33m{\u001b[0m\u001b[0mkey\u001b[0m\u001b[1;33m:\u001b[0m \u001b[0mtransform\u001b[0m\u001b[1;33m(\u001b[0m\u001b[0mp\u001b[0m\u001b[1;33m)\u001b[0m \u001b[1;32mfor\u001b[0m \u001b[0mkey\u001b[0m\u001b[1;33m,\u001b[0m \u001b[0mp\u001b[0m \u001b[1;32min\u001b[0m \u001b[0mgeo_ref_points\u001b[0m\u001b[1;33m.\u001b[0m\u001b[0mitems\u001b[0m\u001b[1;33m(\u001b[0m\u001b[1;33m)\u001b[0m\u001b[1;33m}\u001b[0m\u001b[1;33m\u001b[0m\u001b[0m\n\u001b[0m\u001b[0;32m     34\u001b[0m \u001b[1;33m\u001b[0m\u001b[0m\n\u001b[0;32m     35\u001b[0m \u001b[1;32mdef\u001b[0m \u001b[0mpopulate_coord\u001b[0m\u001b[1;33m(\u001b[0m\u001b[0mdoc\u001b[0m\u001b[1;33m)\u001b[0m\u001b[1;33m:\u001b[0m\u001b[1;33m\u001b[0m\u001b[0m\n",
      "\u001b[1;32m<ipython-input-275-d5b045906e10>\u001b[0m in \u001b[0;36mtransform\u001b[1;34m(p)\u001b[0m\n\u001b[0;32m     29\u001b[0m \u001b[1;33m\u001b[0m\u001b[0m\n\u001b[0;32m     30\u001b[0m     \u001b[1;32mdef\u001b[0m \u001b[0mtransform\u001b[0m\u001b[1;33m(\u001b[0m\u001b[0mp\u001b[0m\u001b[1;33m)\u001b[0m\u001b[1;33m:\u001b[0m\u001b[1;33m\u001b[0m\u001b[0m\n\u001b[1;32m---> 31\u001b[1;33m         \u001b[0mlon\u001b[0m\u001b[1;33m,\u001b[0m \u001b[0mlat\u001b[0m\u001b[1;33m,\u001b[0m \u001b[0mz\u001b[0m \u001b[1;33m=\u001b[0m \u001b[0mt\u001b[0m\u001b[1;33m.\u001b[0m\u001b[0mTransformPoint\u001b[0m\u001b[1;33m(\u001b[0m\u001b[0mp\u001b[0m\u001b[1;33m[\u001b[0m\u001b[1;34m'x'\u001b[0m\u001b[1;33m]\u001b[0m\u001b[1;33m,\u001b[0m \u001b[0mp\u001b[0m\u001b[1;33m[\u001b[0m\u001b[1;34m'y'\u001b[0m\u001b[1;33m]\u001b[0m\u001b[1;33m)\u001b[0m\u001b[1;33m\u001b[0m\u001b[0m\n\u001b[0m\u001b[0;32m     32\u001b[0m         \u001b[1;32mreturn\u001b[0m \u001b[1;33m{\u001b[0m\u001b[1;34m'lon'\u001b[0m\u001b[1;33m:\u001b[0m \u001b[0mlon\u001b[0m\u001b[1;33m,\u001b[0m \u001b[1;34m'lat'\u001b[0m\u001b[1;33m:\u001b[0m \u001b[0mlat\u001b[0m\u001b[1;33m}\u001b[0m\u001b[1;33m\u001b[0m\u001b[0m\n\u001b[0;32m     33\u001b[0m     \u001b[1;32mreturn\u001b[0m \u001b[1;33m{\u001b[0m\u001b[0mkey\u001b[0m\u001b[1;33m:\u001b[0m \u001b[0mtransform\u001b[0m\u001b[1;33m(\u001b[0m\u001b[0mp\u001b[0m\u001b[1;33m)\u001b[0m \u001b[1;32mfor\u001b[0m \u001b[0mkey\u001b[0m\u001b[1;33m,\u001b[0m \u001b[0mp\u001b[0m \u001b[1;32min\u001b[0m \u001b[0mgeo_ref_points\u001b[0m\u001b[1;33m.\u001b[0m\u001b[0mitems\u001b[0m\u001b[1;33m(\u001b[0m\u001b[1;33m)\u001b[0m\u001b[1;33m}\u001b[0m\u001b[1;33m\u001b[0m\u001b[0m\n",
      "\u001b[1;32m/home/cubo/anaconda2/lib/python2.7/site-packages/osgeo/osr.pyc\u001b[0m in \u001b[0;36mTransformPoint\u001b[1;34m(self, *args)\u001b[0m\n\u001b[0;32m    784\u001b[0m         \u001b[0mTransformPoint\u001b[0m\u001b[1;33m(\u001b[0m\u001b[0mCoordinateTransformation\u001b[0m \u001b[0mself\u001b[0m\u001b[1;33m,\u001b[0m \u001b[0mdouble\u001b[0m \u001b[0mx\u001b[0m\u001b[1;33m,\u001b[0m \u001b[0mdouble\u001b[0m \u001b[0my\u001b[0m\u001b[1;33m,\u001b[0m \u001b[0mdouble\u001b[0m \u001b[0mz\u001b[0m\u001b[1;33m=\u001b[0m\u001b[1;36m0.0\u001b[0m\u001b[1;33m)\u001b[0m\u001b[1;33m\u001b[0m\u001b[0m\n\u001b[0;32m    785\u001b[0m         \"\"\"\n\u001b[1;32m--> 786\u001b[1;33m         \u001b[1;32mreturn\u001b[0m \u001b[0m_osr\u001b[0m\u001b[1;33m.\u001b[0m\u001b[0mCoordinateTransformation_TransformPoint\u001b[0m\u001b[1;33m(\u001b[0m\u001b[0mself\u001b[0m\u001b[1;33m,\u001b[0m \u001b[1;33m*\u001b[0m\u001b[0margs\u001b[0m\u001b[1;33m)\u001b[0m\u001b[1;33m\u001b[0m\u001b[0m\n\u001b[0m\u001b[0;32m    787\u001b[0m \u001b[1;33m\u001b[0m\u001b[0m\n\u001b[0;32m    788\u001b[0m     \u001b[1;32mdef\u001b[0m \u001b[0mTransformPoints\u001b[0m\u001b[1;33m(\u001b[0m\u001b[0mself\u001b[0m\u001b[1;33m,\u001b[0m \u001b[1;33m*\u001b[0m\u001b[0margs\u001b[0m\u001b[1;33m)\u001b[0m\u001b[1;33m:\u001b[0m\u001b[1;33m\u001b[0m\u001b[0m\n",
      "\u001b[1;31mNotImplementedError\u001b[0m: Wrong number or type of arguments for overloaded function 'CoordinateTransformation_TransformPoint'.\n  Possible C/C++ prototypes are:\n    OSRCoordinateTransformationShadow::TransformPoint(double [3])\n    OSRCoordinateTransformationShadow::TransformPoint(double [3],double,double,double)\n"
     ]
    }
   ],
   "source": [
    "test_proj = get_projection(images_list[0])\n",
    "test_doc = {\n",
    "    \"grid_spatial\": {\n",
    "        \"projection\": test_proj\n",
    "    },\n",
    "    \"extent\":{}\n",
    "}\n",
    "populate_coord(test_doc)\n",
    "test_doc"
   ]
  },
  {
   "cell_type": "code",
   "execution_count": 71,
   "metadata": {},
   "outputs": [
    {
     "name": "stderr",
     "output_type": "stream",
     "text": [
      "2018-08-14 14:45:11,212 ERROR CPLE_OpenFailed in `/home/cubo/john_r_s2_ingestion/S2A_MSIL2A_20170901T152641_N0205_R025_T18NWG_20170901T153206.SAFE/GRANULE/L2A_T18NWG_A011462_20170901T153206/IMG_DATA/R60m/L2A_T18NWG_20170901T152641_B07_60m.jp2' not recognized as a supported file format.\n",
      "\n"
     ]
    }
   ],
   "source": [
    "baz = gdal.Open(images_list[6])"
   ]
  },
  {
   "cell_type": "code",
   "execution_count": 72,
   "metadata": {},
   "outputs": [
    {
     "ename": "TypeError",
     "evalue": "Info() takes exactly 1 argument (0 given)",
     "output_type": "error",
     "traceback": [
      "\u001b[1;31m\u001b[0m",
      "\u001b[1;31mTypeError\u001b[0mTraceback (most recent call last)",
      "\u001b[1;32m<ipython-input-72-9f6e18e97262>\u001b[0m in \u001b[0;36m<module>\u001b[1;34m()\u001b[0m\n\u001b[1;32m----> 1\u001b[1;33m \u001b[0mgdal\u001b[0m\u001b[1;33m.\u001b[0m\u001b[0mInfo\u001b[0m\u001b[1;33m(\u001b[0m\u001b[1;33m)\u001b[0m\u001b[1;33m\u001b[0m\u001b[0m\n\u001b[0m",
      "\u001b[1;31mTypeError\u001b[0m: Info() takes exactly 1 argument (0 given)"
     ]
    }
   ],
   "source": [
    "gdal.Info()"
   ]
  },
  {
   "cell_type": "code",
   "execution_count": 73,
   "metadata": {},
   "outputs": [
    {
     "ename": "AttributeError",
     "evalue": "'module' object has no attribute '__version__'",
     "output_type": "error",
     "traceback": [
      "\u001b[1;31m\u001b[0m",
      "\u001b[1;31mAttributeError\u001b[0mTraceback (most recent call last)",
      "\u001b[1;32m<ipython-input-73-24b898f00af2>\u001b[0m in \u001b[0;36m<module>\u001b[1;34m()\u001b[0m\n\u001b[1;32m----> 1\u001b[1;33m \u001b[0mgdal\u001b[0m\u001b[1;33m.\u001b[0m\u001b[0m__version__\u001b[0m\u001b[1;33m\u001b[0m\u001b[0m\n\u001b[0m",
      "\u001b[1;31mAttributeError\u001b[0m: 'module' object has no attribute '__version__'"
     ]
    }
   ],
   "source": [
    "gdal.__version__"
   ]
  },
  {
   "cell_type": "code",
   "execution_count": 76,
   "metadata": {},
   "outputs": [
    {
     "data": {
      "text/plain": [
       "'2.1.0'"
      ]
     },
     "execution_count": 76,
     "metadata": {},
     "output_type": "execute_result"
    }
   ],
   "source": [
    "osgeo.__version__"
   ]
  },
  {
   "cell_type": "code",
   "execution_count": 75,
   "metadata": {
    "collapsed": true
   },
   "outputs": [],
   "source": [
    "import osgeo"
   ]
  },
  {
   "cell_type": "code",
   "execution_count": 99,
   "metadata": {
    "collapsed": true
   },
   "outputs": [],
   "source": [
    "images = {im_path.replace('L2A_','') for im_path in images_list}\n",
    "projdict = {image : get_projection(image_path) for image, image_path in zip(images, images_list)}"
   ]
  },
  {
   "cell_type": "code",
   "execution_count": 100,
   "metadata": {},
   "outputs": [
    {
     "data": {
      "text/plain": [
       "{'/home/cubo/john_r_s2_ingestion/S2A_MSI20170901T152641_N0205_R025_T18NWG_20170901T153206.SAFE/GRANULE/T18NWG_A011462_20170901T153206/IMG_DATA/R60m/T18NWG_20170901T152641_B01_60m.tif': {'geo_ref_points': {'ll': {'x': 499980.0,\n",
       "    'y': 90240.0},\n",
       "   'lr': {'x': 609780.0, 'y': 90240.0},\n",
       "   'ul': {'x': 499980.0, 'y': 200040.0},\n",
       "   'ur': {'x': 609780.0, 'y': 200040.0}},\n",
       "  'spatial_reference': 'PROJCS[\"WGS 84 / UTM zone 18N\",GEOGCS[\"WGS 84\",DATUM[\"WGS_1984\",SPHEROID[\"WGS 84\",6378137,298.257223563,AUTHORITY[\"EPSG\",\"7030\"]],AUTHORITY[\"EPSG\",\"6326\"]],PRIMEM[\"Greenwich\",0,AUTHORITY[\"EPSG\",\"8901\"]],UNIT[\"degree\",0.0174532925199433,AUTHORITY[\"EPSG\",\"9122\"]],AUTHORITY[\"EPSG\",\"4326\"]],PROJECTION[\"Transverse_Mercator\"],PARAMETER[\"latitude_of_origin\",0],PARAMETER[\"central_meridian\",-75],PARAMETER[\"scale_factor\",0.9996],PARAMETER[\"false_easting\",500000],PARAMETER[\"false_northing\",0],UNIT[\"metre\",1,AUTHORITY[\"EPSG\",\"9001\"]],AXIS[\"Easting\",EAST],AXIS[\"Northing\",NORTH],AUTHORITY[\"EPSG\",\"32618\"]]'}}"
      ]
     },
     "execution_count": 100,
     "metadata": {},
     "output_type": "execute_result"
    }
   ],
   "source": [
    "projdict"
   ]
  },
  {
   "cell_type": "code",
   "execution_count": null,
   "metadata": {
    "collapsed": true
   },
   "outputs": [],
   "source": []
  }
 ],
 "metadata": {
  "kernelspec": {
   "display_name": "Python [Root]",
   "language": "python",
   "name": "Python [Root]"
  },
  "language_info": {
   "codemirror_mode": {
    "name": "ipython",
    "version": 2
   },
   "file_extension": ".py",
   "mimetype": "text/x-python",
   "name": "python",
   "nbconvert_exporter": "python",
   "pygments_lexer": "ipython2",
   "version": "2.7.12"
  }
 },
 "nbformat": 4,
 "nbformat_minor": 1
}
